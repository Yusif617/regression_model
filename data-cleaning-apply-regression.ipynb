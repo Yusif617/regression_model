{
 "cells": [
  {
   "cell_type": "code",
   "execution_count": 1,
   "id": "5341bc7e",
   "metadata": {
    "execution": {
     "iopub.execute_input": "2025-01-04T11:26:44.054318Z",
     "iopub.status.busy": "2025-01-04T11:26:44.053935Z",
     "iopub.status.idle": "2025-01-04T11:26:44.445532Z",
     "shell.execute_reply": "2025-01-04T11:26:44.444550Z"
    },
    "papermill": {
     "duration": 0.403447,
     "end_time": "2025-01-04T11:26:44.447502",
     "exception": false,
     "start_time": "2025-01-04T11:26:44.044055",
     "status": "completed"
    },
    "tags": []
   },
   "outputs": [],
   "source": [
    "import pandas as pd\n",
    "import numpy as np\n",
    "import warnings\n",
    "warnings.filterwarnings(\"ignore\")"
   ]
  },
  {
   "cell_type": "code",
   "execution_count": 2,
   "id": "9e2568b6",
   "metadata": {
    "execution": {
     "iopub.execute_input": "2025-01-04T11:26:44.465476Z",
     "iopub.status.busy": "2025-01-04T11:26:44.465000Z",
     "iopub.status.idle": "2025-01-04T11:26:44.519893Z",
     "shell.execute_reply": "2025-01-04T11:26:44.518498Z"
    },
    "papermill": {
     "duration": 0.065822,
     "end_time": "2025-01-04T11:26:44.521785",
     "exception": false,
     "start_time": "2025-01-04T11:26:44.455963",
     "status": "completed"
    },
    "tags": []
   },
   "outputs": [
    {
     "data": {
      "text/html": [
       "<div>\n",
       "<style scoped>\n",
       "    .dataframe tbody tr th:only-of-type {\n",
       "        vertical-align: middle;\n",
       "    }\n",
       "\n",
       "    .dataframe tbody tr th {\n",
       "        vertical-align: top;\n",
       "    }\n",
       "\n",
       "    .dataframe thead th {\n",
       "        text-align: right;\n",
       "    }\n",
       "</style>\n",
       "<table border=\"1\" class=\"dataframe\">\n",
       "  <thead>\n",
       "    <tr style=\"text-align: right;\">\n",
       "      <th></th>\n",
       "      <th>Age</th>\n",
       "      <th>Gender</th>\n",
       "      <th>Education Level</th>\n",
       "      <th>Job Title</th>\n",
       "      <th>Years of Experience</th>\n",
       "      <th>Salary</th>\n",
       "    </tr>\n",
       "  </thead>\n",
       "  <tbody>\n",
       "    <tr>\n",
       "      <th>0</th>\n",
       "      <td>32.0</td>\n",
       "      <td>Male</td>\n",
       "      <td>Bachelor's</td>\n",
       "      <td>Software Engineer</td>\n",
       "      <td>5.0</td>\n",
       "      <td>90000.0</td>\n",
       "    </tr>\n",
       "    <tr>\n",
       "      <th>1</th>\n",
       "      <td>28.0</td>\n",
       "      <td>Female</td>\n",
       "      <td>Master's</td>\n",
       "      <td>Data Analyst</td>\n",
       "      <td>3.0</td>\n",
       "      <td>65000.0</td>\n",
       "    </tr>\n",
       "    <tr>\n",
       "      <th>2</th>\n",
       "      <td>45.0</td>\n",
       "      <td>Male</td>\n",
       "      <td>PhD</td>\n",
       "      <td>Senior Manager</td>\n",
       "      <td>15.0</td>\n",
       "      <td>150000.0</td>\n",
       "    </tr>\n",
       "    <tr>\n",
       "      <th>3</th>\n",
       "      <td>36.0</td>\n",
       "      <td>Female</td>\n",
       "      <td>Bachelor's</td>\n",
       "      <td>Sales Associate</td>\n",
       "      <td>7.0</td>\n",
       "      <td>60000.0</td>\n",
       "    </tr>\n",
       "    <tr>\n",
       "      <th>4</th>\n",
       "      <td>52.0</td>\n",
       "      <td>Male</td>\n",
       "      <td>Master's</td>\n",
       "      <td>Director</td>\n",
       "      <td>20.0</td>\n",
       "      <td>200000.0</td>\n",
       "    </tr>\n",
       "    <tr>\n",
       "      <th>...</th>\n",
       "      <td>...</td>\n",
       "      <td>...</td>\n",
       "      <td>...</td>\n",
       "      <td>...</td>\n",
       "      <td>...</td>\n",
       "      <td>...</td>\n",
       "    </tr>\n",
       "    <tr>\n",
       "      <th>6699</th>\n",
       "      <td>49.0</td>\n",
       "      <td>Female</td>\n",
       "      <td>PhD</td>\n",
       "      <td>Director of Marketing</td>\n",
       "      <td>20.0</td>\n",
       "      <td>200000.0</td>\n",
       "    </tr>\n",
       "    <tr>\n",
       "      <th>6700</th>\n",
       "      <td>32.0</td>\n",
       "      <td>Male</td>\n",
       "      <td>High School</td>\n",
       "      <td>Sales Associate</td>\n",
       "      <td>3.0</td>\n",
       "      <td>50000.0</td>\n",
       "    </tr>\n",
       "    <tr>\n",
       "      <th>6701</th>\n",
       "      <td>30.0</td>\n",
       "      <td>Female</td>\n",
       "      <td>Bachelor's Degree</td>\n",
       "      <td>Financial Manager</td>\n",
       "      <td>4.0</td>\n",
       "      <td>55000.0</td>\n",
       "    </tr>\n",
       "    <tr>\n",
       "      <th>6702</th>\n",
       "      <td>46.0</td>\n",
       "      <td>Male</td>\n",
       "      <td>Master's Degree</td>\n",
       "      <td>Marketing Manager</td>\n",
       "      <td>14.0</td>\n",
       "      <td>140000.0</td>\n",
       "    </tr>\n",
       "    <tr>\n",
       "      <th>6703</th>\n",
       "      <td>26.0</td>\n",
       "      <td>Female</td>\n",
       "      <td>High School</td>\n",
       "      <td>Sales Executive</td>\n",
       "      <td>1.0</td>\n",
       "      <td>35000.0</td>\n",
       "    </tr>\n",
       "  </tbody>\n",
       "</table>\n",
       "<p>6704 rows × 6 columns</p>\n",
       "</div>"
      ],
      "text/plain": [
       "       Age  Gender    Education Level              Job Title  \\\n",
       "0     32.0    Male         Bachelor's      Software Engineer   \n",
       "1     28.0  Female           Master's           Data Analyst   \n",
       "2     45.0    Male                PhD         Senior Manager   \n",
       "3     36.0  Female         Bachelor's        Sales Associate   \n",
       "4     52.0    Male           Master's               Director   \n",
       "...    ...     ...                ...                    ...   \n",
       "6699  49.0  Female                PhD  Director of Marketing   \n",
       "6700  32.0    Male        High School        Sales Associate   \n",
       "6701  30.0  Female  Bachelor's Degree      Financial Manager   \n",
       "6702  46.0    Male    Master's Degree      Marketing Manager   \n",
       "6703  26.0  Female        High School        Sales Executive   \n",
       "\n",
       "      Years of Experience    Salary  \n",
       "0                     5.0   90000.0  \n",
       "1                     3.0   65000.0  \n",
       "2                    15.0  150000.0  \n",
       "3                     7.0   60000.0  \n",
       "4                    20.0  200000.0  \n",
       "...                   ...       ...  \n",
       "6699                 20.0  200000.0  \n",
       "6700                  3.0   50000.0  \n",
       "6701                  4.0   55000.0  \n",
       "6702                 14.0  140000.0  \n",
       "6703                  1.0   35000.0  \n",
       "\n",
       "[6704 rows x 6 columns]"
      ]
     },
     "execution_count": 2,
     "metadata": {},
     "output_type": "execute_result"
    }
   ],
   "source": [
    "salary_data=pd.read_csv('/kaggle/input/salary-data/Salary_Data.csv')\n",
    "salary_data"
   ]
  },
  {
   "cell_type": "code",
   "execution_count": 3,
   "id": "3e220240",
   "metadata": {
    "execution": {
     "iopub.execute_input": "2025-01-04T11:26:44.538661Z",
     "iopub.status.busy": "2025-01-04T11:26:44.538328Z",
     "iopub.status.idle": "2025-01-04T11:26:44.564743Z",
     "shell.execute_reply": "2025-01-04T11:26:44.563613Z"
    },
    "papermill": {
     "duration": 0.036747,
     "end_time": "2025-01-04T11:26:44.566488",
     "exception": false,
     "start_time": "2025-01-04T11:26:44.529741",
     "status": "completed"
    },
    "tags": []
   },
   "outputs": [
    {
     "name": "stdout",
     "output_type": "stream",
     "text": [
      "<class 'pandas.core.frame.DataFrame'>\n",
      "RangeIndex: 6704 entries, 0 to 6703\n",
      "Data columns (total 6 columns):\n",
      " #   Column               Non-Null Count  Dtype  \n",
      "---  ------               --------------  -----  \n",
      " 0   Age                  6702 non-null   float64\n",
      " 1   Gender               6702 non-null   object \n",
      " 2   Education Level      6701 non-null   object \n",
      " 3   Job Title            6702 non-null   object \n",
      " 4   Years of Experience  6701 non-null   float64\n",
      " 5   Salary               6699 non-null   float64\n",
      "dtypes: float64(3), object(3)\n",
      "memory usage: 314.4+ KB\n"
     ]
    }
   ],
   "source": [
    "salary_data.info()"
   ]
  },
  {
   "cell_type": "code",
   "execution_count": 4,
   "id": "1fb79b4c",
   "metadata": {
    "execution": {
     "iopub.execute_input": "2025-01-04T11:26:44.583847Z",
     "iopub.status.busy": "2025-01-04T11:26:44.583434Z",
     "iopub.status.idle": "2025-01-04T11:26:44.607214Z",
     "shell.execute_reply": "2025-01-04T11:26:44.605928Z"
    },
    "papermill": {
     "duration": 0.034281,
     "end_time": "2025-01-04T11:26:44.608954",
     "exception": false,
     "start_time": "2025-01-04T11:26:44.574673",
     "status": "completed"
    },
    "tags": []
   },
   "outputs": [
    {
     "data": {
      "text/html": [
       "<div>\n",
       "<style scoped>\n",
       "    .dataframe tbody tr th:only-of-type {\n",
       "        vertical-align: middle;\n",
       "    }\n",
       "\n",
       "    .dataframe tbody tr th {\n",
       "        vertical-align: top;\n",
       "    }\n",
       "\n",
       "    .dataframe thead th {\n",
       "        text-align: right;\n",
       "    }\n",
       "</style>\n",
       "<table border=\"1\" class=\"dataframe\">\n",
       "  <thead>\n",
       "    <tr style=\"text-align: right;\">\n",
       "      <th></th>\n",
       "      <th>count</th>\n",
       "      <th>mean</th>\n",
       "      <th>std</th>\n",
       "      <th>min</th>\n",
       "      <th>25%</th>\n",
       "      <th>50%</th>\n",
       "      <th>75%</th>\n",
       "      <th>max</th>\n",
       "    </tr>\n",
       "  </thead>\n",
       "  <tbody>\n",
       "    <tr>\n",
       "      <th>Age</th>\n",
       "      <td>6702.0</td>\n",
       "      <td>33.620859</td>\n",
       "      <td>7.614633</td>\n",
       "      <td>21.0</td>\n",
       "      <td>28.0</td>\n",
       "      <td>32.0</td>\n",
       "      <td>38.0</td>\n",
       "      <td>62.0</td>\n",
       "    </tr>\n",
       "    <tr>\n",
       "      <th>Years of Experience</th>\n",
       "      <td>6701.0</td>\n",
       "      <td>8.094687</td>\n",
       "      <td>6.059003</td>\n",
       "      <td>0.0</td>\n",
       "      <td>3.0</td>\n",
       "      <td>7.0</td>\n",
       "      <td>12.0</td>\n",
       "      <td>34.0</td>\n",
       "    </tr>\n",
       "    <tr>\n",
       "      <th>Salary</th>\n",
       "      <td>6699.0</td>\n",
       "      <td>115326.964771</td>\n",
       "      <td>52786.183911</td>\n",
       "      <td>350.0</td>\n",
       "      <td>70000.0</td>\n",
       "      <td>115000.0</td>\n",
       "      <td>160000.0</td>\n",
       "      <td>250000.0</td>\n",
       "    </tr>\n",
       "  </tbody>\n",
       "</table>\n",
       "</div>"
      ],
      "text/plain": [
       "                      count           mean           std    min      25%  \\\n",
       "Age                  6702.0      33.620859      7.614633   21.0     28.0   \n",
       "Years of Experience  6701.0       8.094687      6.059003    0.0      3.0   \n",
       "Salary               6699.0  115326.964771  52786.183911  350.0  70000.0   \n",
       "\n",
       "                          50%       75%       max  \n",
       "Age                      32.0      38.0      62.0  \n",
       "Years of Experience       7.0      12.0      34.0  \n",
       "Salary               115000.0  160000.0  250000.0  "
      ]
     },
     "execution_count": 4,
     "metadata": {},
     "output_type": "execute_result"
    }
   ],
   "source": [
    "salary_data.describe().T"
   ]
  },
  {
   "cell_type": "code",
   "execution_count": 5,
   "id": "0bc6c93d",
   "metadata": {
    "execution": {
     "iopub.execute_input": "2025-01-04T11:26:44.626420Z",
     "iopub.status.busy": "2025-01-04T11:26:44.626074Z",
     "iopub.status.idle": "2025-01-04T11:26:44.635448Z",
     "shell.execute_reply": "2025-01-04T11:26:44.634309Z"
    },
    "papermill": {
     "duration": 0.019977,
     "end_time": "2025-01-04T11:26:44.637192",
     "exception": false,
     "start_time": "2025-01-04T11:26:44.617215",
     "status": "completed"
    },
    "tags": []
   },
   "outputs": [
    {
     "name": "stdout",
     "output_type": "stream",
     "text": [
      "Total null values of data: 17\n",
      "Age                    2\n",
      "Gender                 2\n",
      "Education Level        3\n",
      "Job Title              2\n",
      "Years of Experience    3\n",
      "Salary                 5\n",
      "dtype: int64\n"
     ]
    }
   ],
   "source": [
    "print('Total null values of data:',salary_data.isna().sum().sum())\n",
    "print(salary_data.isna().sum())"
   ]
  },
  {
   "cell_type": "code",
   "execution_count": null,
   "id": "ddacbe07",
   "metadata": {
    "papermill": {
     "duration": 0.007808,
     "end_time": "2025-01-04T11:26:44.653773",
     "exception": false,
     "start_time": "2025-01-04T11:26:44.645965",
     "status": "completed"
    },
    "tags": []
   },
   "outputs": [],
   "source": []
  },
  {
   "cell_type": "code",
   "execution_count": null,
   "id": "084da2e0",
   "metadata": {
    "papermill": {
     "duration": 0.007776,
     "end_time": "2025-01-04T11:26:44.669645",
     "exception": false,
     "start_time": "2025-01-04T11:26:44.661869",
     "status": "completed"
    },
    "tags": []
   },
   "outputs": [],
   "source": []
  },
  {
   "cell_type": "code",
   "execution_count": 6,
   "id": "39b4fe80",
   "metadata": {
    "execution": {
     "iopub.execute_input": "2025-01-04T11:26:44.687365Z",
     "iopub.status.busy": "2025-01-04T11:26:44.686978Z",
     "iopub.status.idle": "2025-01-04T11:26:44.693213Z",
     "shell.execute_reply": "2025-01-04T11:26:44.692084Z"
    },
    "papermill": {
     "duration": 0.017279,
     "end_time": "2025-01-04T11:26:44.695068",
     "exception": false,
     "start_time": "2025-01-04T11:26:44.677789",
     "status": "completed"
    },
    "tags": []
   },
   "outputs": [
    {
     "data": {
      "text/plain": [
       "'\"\"def fill_na(salary_data, columns):\\n    for col in columns:\\n        value_counts = salary_data[col].value_counts(normalize=True)\\n        salary_data[col] = salary_data[col].apply(\\n            lambda x: np.random.choice(value_counts.index, p=value_counts.values) if pd.isnull(x) else x\\n        )\\n    return salary_data\\n\\ncolumns_to_fill = [\\'Gender\\',\\'Education Level\\',\\'Job Title\\']\\nsalary_data = fill_na(salary_data, columns_to_fill)\\n'"
      ]
     },
     "execution_count": 6,
     "metadata": {},
     "output_type": "execute_result"
    }
   ],
   "source": [
    "\"\"\"\"\"def fill_na(salary_data, columns):\n",
    "    for col in columns:\n",
    "        value_counts = salary_data[col].value_counts(normalize=True)\n",
    "        salary_data[col] = salary_data[col].apply(\n",
    "            lambda x: np.random.choice(value_counts.index, p=value_counts.values) if pd.isnull(x) else x\n",
    "        )\n",
    "    return salary_data\n",
    "\n",
    "columns_to_fill = ['Gender','Education Level','Job Title']\n",
    "salary_data = fill_na(salary_data, columns_to_fill)\n",
    "\"\"\"\"\""
   ]
  },
  {
   "cell_type": "code",
   "execution_count": 7,
   "id": "3ea5ad67",
   "metadata": {
    "execution": {
     "iopub.execute_input": "2025-01-04T11:26:44.713900Z",
     "iopub.status.busy": "2025-01-04T11:26:44.713447Z",
     "iopub.status.idle": "2025-01-04T11:26:44.723457Z",
     "shell.execute_reply": "2025-01-04T11:26:44.722044Z"
    },
    "papermill": {
     "duration": 0.021364,
     "end_time": "2025-01-04T11:26:44.725433",
     "exception": false,
     "start_time": "2025-01-04T11:26:44.704069",
     "status": "completed"
    },
    "tags": []
   },
   "outputs": [],
   "source": [
    "salary_data['Age'] = salary_data['Age'].fillna(salary_data['Age'].mean())\n",
    "salary_data['Years of Experience'] = salary_data['Years of Experience'].fillna(salary_data['Years of Experience'].mean())\n",
    "salary_data['Salary'] = salary_data['Salary'].fillna(salary_data['Salary'].mean())"
   ]
  },
  {
   "cell_type": "code",
   "execution_count": 8,
   "id": "a05cdb98",
   "metadata": {
    "execution": {
     "iopub.execute_input": "2025-01-04T11:26:44.743790Z",
     "iopub.status.busy": "2025-01-04T11:26:44.743365Z",
     "iopub.status.idle": "2025-01-04T11:26:44.753895Z",
     "shell.execute_reply": "2025-01-04T11:26:44.752298Z"
    },
    "papermill": {
     "duration": 0.022584,
     "end_time": "2025-01-04T11:26:44.756529",
     "exception": false,
     "start_time": "2025-01-04T11:26:44.733945",
     "status": "completed"
    },
    "tags": []
   },
   "outputs": [
    {
     "data": {
      "text/plain": [
       "Age                    0\n",
       "Gender                 2\n",
       "Education Level        3\n",
       "Job Title              2\n",
       "Years of Experience    0\n",
       "Salary                 0\n",
       "dtype: int64"
      ]
     },
     "execution_count": 8,
     "metadata": {},
     "output_type": "execute_result"
    }
   ],
   "source": [
    "salary_data.isna().sum()"
   ]
  },
  {
   "cell_type": "code",
   "execution_count": 9,
   "id": "a197c9a8",
   "metadata": {
    "execution": {
     "iopub.execute_input": "2025-01-04T11:26:44.775250Z",
     "iopub.status.busy": "2025-01-04T11:26:44.774810Z",
     "iopub.status.idle": "2025-01-04T11:26:44.798376Z",
     "shell.execute_reply": "2025-01-04T11:26:44.796721Z"
    },
    "papermill": {
     "duration": 0.03588,
     "end_time": "2025-01-04T11:26:44.801111",
     "exception": false,
     "start_time": "2025-01-04T11:26:44.765231",
     "status": "completed"
    },
    "tags": []
   },
   "outputs": [
    {
     "data": {
      "text/html": [
       "<div>\n",
       "<style scoped>\n",
       "    .dataframe tbody tr th:only-of-type {\n",
       "        vertical-align: middle;\n",
       "    }\n",
       "\n",
       "    .dataframe tbody tr th {\n",
       "        vertical-align: top;\n",
       "    }\n",
       "\n",
       "    .dataframe thead th {\n",
       "        text-align: right;\n",
       "    }\n",
       "</style>\n",
       "<table border=\"1\" class=\"dataframe\">\n",
       "  <thead>\n",
       "    <tr style=\"text-align: right;\">\n",
       "      <th></th>\n",
       "      <th>Age</th>\n",
       "      <th>Gender</th>\n",
       "      <th>Education Level</th>\n",
       "      <th>Job Title</th>\n",
       "      <th>Years of Experience</th>\n",
       "      <th>Salary</th>\n",
       "    </tr>\n",
       "  </thead>\n",
       "  <tbody>\n",
       "    <tr>\n",
       "      <th>0</th>\n",
       "      <td>32.0</td>\n",
       "      <td>Male</td>\n",
       "      <td>Bachelor's</td>\n",
       "      <td>Software Engineer</td>\n",
       "      <td>5.0</td>\n",
       "      <td>90000.0</td>\n",
       "    </tr>\n",
       "    <tr>\n",
       "      <th>1</th>\n",
       "      <td>28.0</td>\n",
       "      <td>Female</td>\n",
       "      <td>Master's</td>\n",
       "      <td>Data Analyst</td>\n",
       "      <td>3.0</td>\n",
       "      <td>65000.0</td>\n",
       "    </tr>\n",
       "    <tr>\n",
       "      <th>2</th>\n",
       "      <td>45.0</td>\n",
       "      <td>Male</td>\n",
       "      <td>PhD</td>\n",
       "      <td>Senior Manager</td>\n",
       "      <td>15.0</td>\n",
       "      <td>150000.0</td>\n",
       "    </tr>\n",
       "    <tr>\n",
       "      <th>3</th>\n",
       "      <td>36.0</td>\n",
       "      <td>Female</td>\n",
       "      <td>Bachelor's</td>\n",
       "      <td>Sales Associate</td>\n",
       "      <td>7.0</td>\n",
       "      <td>60000.0</td>\n",
       "    </tr>\n",
       "    <tr>\n",
       "      <th>4</th>\n",
       "      <td>52.0</td>\n",
       "      <td>Male</td>\n",
       "      <td>Master's</td>\n",
       "      <td>Director</td>\n",
       "      <td>20.0</td>\n",
       "      <td>200000.0</td>\n",
       "    </tr>\n",
       "    <tr>\n",
       "      <th>...</th>\n",
       "      <td>...</td>\n",
       "      <td>...</td>\n",
       "      <td>...</td>\n",
       "      <td>...</td>\n",
       "      <td>...</td>\n",
       "      <td>...</td>\n",
       "    </tr>\n",
       "    <tr>\n",
       "      <th>1787</th>\n",
       "      <td>43.0</td>\n",
       "      <td>Female</td>\n",
       "      <td>Master's Degree</td>\n",
       "      <td>Digital Marketing Manager</td>\n",
       "      <td>15.0</td>\n",
       "      <td>150000.0</td>\n",
       "    </tr>\n",
       "    <tr>\n",
       "      <th>1788</th>\n",
       "      <td>27.0</td>\n",
       "      <td>Male</td>\n",
       "      <td>High School</td>\n",
       "      <td>Sales Manager</td>\n",
       "      <td>2.0</td>\n",
       "      <td>40000.0</td>\n",
       "    </tr>\n",
       "    <tr>\n",
       "      <th>1789</th>\n",
       "      <td>33.0</td>\n",
       "      <td>Female</td>\n",
       "      <td>Bachelor's Degree</td>\n",
       "      <td>Director of Marketing</td>\n",
       "      <td>8.0</td>\n",
       "      <td>80000.0</td>\n",
       "    </tr>\n",
       "    <tr>\n",
       "      <th>1790</th>\n",
       "      <td>37.0</td>\n",
       "      <td>Male</td>\n",
       "      <td>Bachelor's Degree</td>\n",
       "      <td>Sales Director</td>\n",
       "      <td>7.0</td>\n",
       "      <td>90000.0</td>\n",
       "    </tr>\n",
       "    <tr>\n",
       "      <th>1791</th>\n",
       "      <td>30.0</td>\n",
       "      <td>Female</td>\n",
       "      <td>Bachelor's Degree</td>\n",
       "      <td>Sales Manager</td>\n",
       "      <td>5.0</td>\n",
       "      <td>70000.0</td>\n",
       "    </tr>\n",
       "  </tbody>\n",
       "</table>\n",
       "<p>1792 rows × 6 columns</p>\n",
       "</div>"
      ],
      "text/plain": [
       "       Age  Gender    Education Level                  Job Title  \\\n",
       "0     32.0    Male         Bachelor's          Software Engineer   \n",
       "1     28.0  Female           Master's               Data Analyst   \n",
       "2     45.0    Male                PhD             Senior Manager   \n",
       "3     36.0  Female         Bachelor's            Sales Associate   \n",
       "4     52.0    Male           Master's                   Director   \n",
       "...    ...     ...                ...                        ...   \n",
       "1787  43.0  Female    Master's Degree  Digital Marketing Manager   \n",
       "1788  27.0    Male        High School              Sales Manager   \n",
       "1789  33.0  Female  Bachelor's Degree      Director of Marketing   \n",
       "1790  37.0    Male  Bachelor's Degree             Sales Director   \n",
       "1791  30.0  Female  Bachelor's Degree              Sales Manager   \n",
       "\n",
       "      Years of Experience    Salary  \n",
       "0                     5.0   90000.0  \n",
       "1                     3.0   65000.0  \n",
       "2                    15.0  150000.0  \n",
       "3                     7.0   60000.0  \n",
       "4                    20.0  200000.0  \n",
       "...                   ...       ...  \n",
       "1787                 15.0  150000.0  \n",
       "1788                  2.0   40000.0  \n",
       "1789                  8.0   80000.0  \n",
       "1790                  7.0   90000.0  \n",
       "1791                  5.0   70000.0  \n",
       "\n",
       "[1792 rows x 6 columns]"
      ]
     },
     "execution_count": 9,
     "metadata": {},
     "output_type": "execute_result"
    }
   ],
   "source": [
    "salary_data.drop_duplicates().reset_index(drop=True)"
   ]
  },
  {
   "cell_type": "code",
   "execution_count": 10,
   "id": "b6bb01fd",
   "metadata": {
    "execution": {
     "iopub.execute_input": "2025-01-04T11:26:44.823776Z",
     "iopub.status.busy": "2025-01-04T11:26:44.823380Z",
     "iopub.status.idle": "2025-01-04T11:26:44.829242Z",
     "shell.execute_reply": "2025-01-04T11:26:44.827900Z"
    },
    "papermill": {
     "duration": 0.018926,
     "end_time": "2025-01-04T11:26:44.831023",
     "exception": false,
     "start_time": "2025-01-04T11:26:44.812097",
     "status": "completed"
    },
    "tags": []
   },
   "outputs": [],
   "source": [
    "salary_data_numeric=salary_data.select_dtypes(exclude=['object'])"
   ]
  },
  {
   "cell_type": "code",
   "execution_count": 11,
   "id": "8b7d78d2",
   "metadata": {
    "execution": {
     "iopub.execute_input": "2025-01-04T11:26:44.850798Z",
     "iopub.status.busy": "2025-01-04T11:26:44.850395Z",
     "iopub.status.idle": "2025-01-04T11:26:46.519742Z",
     "shell.execute_reply": "2025-01-04T11:26:46.518738Z"
    },
    "papermill": {
     "duration": 1.681126,
     "end_time": "2025-01-04T11:26:46.521711",
     "exception": false,
     "start_time": "2025-01-04T11:26:44.840585",
     "status": "completed"
    },
    "tags": []
   },
   "outputs": [],
   "source": [
    "import seaborn as sns"
   ]
  },
  {
   "cell_type": "code",
   "execution_count": 12,
   "id": "9b9596ec",
   "metadata": {
    "execution": {
     "iopub.execute_input": "2025-01-04T11:26:46.540825Z",
     "iopub.status.busy": "2025-01-04T11:26:46.540323Z",
     "iopub.status.idle": "2025-01-04T11:26:46.822296Z",
     "shell.execute_reply": "2025-01-04T11:26:46.821084Z"
    },
    "papermill": {
     "duration": 0.293573,
     "end_time": "2025-01-04T11:26:46.824256",
     "exception": false,
     "start_time": "2025-01-04T11:26:46.530683",
     "status": "completed"
    },
    "tags": []
   },
   "outputs": [
    {
     "data": {
      "text/plain": [
       "<Axes: >"
      ]
     },
     "execution_count": 12,
     "metadata": {},
     "output_type": "execute_result"
    },
    {
     "data": {
      "image/png": "[encoded data removed]",
      "text/plain": [
       "<Figure size 640x480 with 2 Axes>"
      ]
     },
     "metadata": {},
     "output_type": "display_data"
    }
   ],
   "source": [
    "sns.heatmap(salary_data_numeric.corr(),annot=True)"
   ]
  },
  {
   "cell_type": "code",
   "execution_count": 13,
   "id": "2cc9e676",
   "metadata": {
    "execution": {
     "iopub.execute_input": "2025-01-04T11:26:46.845192Z",
     "iopub.status.busy": "2025-01-04T11:26:46.844816Z",
     "iopub.status.idle": "2025-01-04T11:26:47.063100Z",
     "shell.execute_reply": "2025-01-04T11:26:47.062025Z"
    },
    "papermill": {
     "duration": 0.231006,
     "end_time": "2025-01-04T11:26:47.064904",
     "exception": false,
     "start_time": "2025-01-04T11:26:46.833898",
     "status": "completed"
    },
    "tags": []
   },
   "outputs": [
    {
     "data": {
      "text/plain": [
       "<Axes: >"
      ]
     },
     "execution_count": 13,
     "metadata": {},
     "output_type": "execute_result"
    },
    {
     "data": {
      "image/png": "[encoded data removed]",
      "text/plain": [
       "<Figure size 640x480 with 1 Axes>"
      ]
     },
     "metadata": {},
     "output_type": "display_data"
    }
   ],
   "source": [
    "sns.boxplot(data=salary_data_numeric)"
   ]
  },
  {
   "cell_type": "code",
   "execution_count": 14,
   "id": "d0251ef7",
   "metadata": {
    "execution": {
     "iopub.execute_input": "2025-01-04T11:26:47.086434Z",
     "iopub.status.busy": "2025-01-04T11:26:47.086056Z",
     "iopub.status.idle": "2025-01-04T11:26:47.094388Z",
     "shell.execute_reply": "2025-01-04T11:26:47.093331Z"
    },
    "papermill": {
     "duration": 0.021411,
     "end_time": "2025-01-04T11:26:47.096338",
     "exception": false,
     "start_time": "2025-01-04T11:26:47.074927",
     "status": "completed"
    },
    "tags": []
   },
   "outputs": [],
   "source": [
    "salary_data['Education Level']=salary_data['Education Level'].replace('phD','PhD').replace(\"Master's Degree\",\"Master's\")\n",
    "salary_data_encode=salary_data.drop(['Job Title'],axis=1)"
   ]
  },
  {
   "cell_type": "code",
   "execution_count": 15,
   "id": "7749f8a0",
   "metadata": {
    "execution": {
     "iopub.execute_input": "2025-01-04T11:26:47.118104Z",
     "iopub.status.busy": "2025-01-04T11:26:47.117617Z",
     "iopub.status.idle": "2025-01-04T11:26:47.140879Z",
     "shell.execute_reply": "2025-01-04T11:26:47.139775Z"
    },
    "papermill": {
     "duration": 0.036306,
     "end_time": "2025-01-04T11:26:47.142938",
     "exception": false,
     "start_time": "2025-01-04T11:26:47.106632",
     "status": "completed"
    },
    "tags": []
   },
   "outputs": [
    {
     "data": {
      "text/html": [
       "<div>\n",
       "<style scoped>\n",
       "    .dataframe tbody tr th:only-of-type {\n",
       "        vertical-align: middle;\n",
       "    }\n",
       "\n",
       "    .dataframe tbody tr th {\n",
       "        vertical-align: top;\n",
       "    }\n",
       "\n",
       "    .dataframe thead th {\n",
       "        text-align: right;\n",
       "    }\n",
       "</style>\n",
       "<table border=\"1\" class=\"dataframe\">\n",
       "  <thead>\n",
       "    <tr style=\"text-align: right;\">\n",
       "      <th></th>\n",
       "      <th>Age</th>\n",
       "      <th>Years of Experience</th>\n",
       "      <th>Salary</th>\n",
       "      <th>Gender_Male</th>\n",
       "      <th>Gender_Other</th>\n",
       "      <th>Education Level_Bachelor's Degree</th>\n",
       "      <th>Education Level_High School</th>\n",
       "      <th>Education Level_Master's</th>\n",
       "      <th>Education Level_PhD</th>\n",
       "    </tr>\n",
       "  </thead>\n",
       "  <tbody>\n",
       "    <tr>\n",
       "      <th>0</th>\n",
       "      <td>32.0</td>\n",
       "      <td>5.0</td>\n",
       "      <td>90000.0</td>\n",
       "      <td>True</td>\n",
       "      <td>False</td>\n",
       "      <td>False</td>\n",
       "      <td>False</td>\n",
       "      <td>False</td>\n",
       "      <td>False</td>\n",
       "    </tr>\n",
       "    <tr>\n",
       "      <th>1</th>\n",
       "      <td>28.0</td>\n",
       "      <td>3.0</td>\n",
       "      <td>65000.0</td>\n",
       "      <td>False</td>\n",
       "      <td>False</td>\n",
       "      <td>False</td>\n",
       "      <td>False</td>\n",
       "      <td>True</td>\n",
       "      <td>False</td>\n",
       "    </tr>\n",
       "    <tr>\n",
       "      <th>2</th>\n",
       "      <td>45.0</td>\n",
       "      <td>15.0</td>\n",
       "      <td>150000.0</td>\n",
       "      <td>True</td>\n",
       "      <td>False</td>\n",
       "      <td>False</td>\n",
       "      <td>False</td>\n",
       "      <td>False</td>\n",
       "      <td>True</td>\n",
       "    </tr>\n",
       "    <tr>\n",
       "      <th>3</th>\n",
       "      <td>36.0</td>\n",
       "      <td>7.0</td>\n",
       "      <td>60000.0</td>\n",
       "      <td>False</td>\n",
       "      <td>False</td>\n",
       "      <td>False</td>\n",
       "      <td>False</td>\n",
       "      <td>False</td>\n",
       "      <td>False</td>\n",
       "    </tr>\n",
       "    <tr>\n",
       "      <th>4</th>\n",
       "      <td>52.0</td>\n",
       "      <td>20.0</td>\n",
       "      <td>200000.0</td>\n",
       "      <td>True</td>\n",
       "      <td>False</td>\n",
       "      <td>False</td>\n",
       "      <td>False</td>\n",
       "      <td>True</td>\n",
       "      <td>False</td>\n",
       "    </tr>\n",
       "    <tr>\n",
       "      <th>...</th>\n",
       "      <td>...</td>\n",
       "      <td>...</td>\n",
       "      <td>...</td>\n",
       "      <td>...</td>\n",
       "      <td>...</td>\n",
       "      <td>...</td>\n",
       "      <td>...</td>\n",
       "      <td>...</td>\n",
       "      <td>...</td>\n",
       "    </tr>\n",
       "    <tr>\n",
       "      <th>6699</th>\n",
       "      <td>49.0</td>\n",
       "      <td>20.0</td>\n",
       "      <td>200000.0</td>\n",
       "      <td>False</td>\n",
       "      <td>False</td>\n",
       "      <td>False</td>\n",
       "      <td>False</td>\n",
       "      <td>False</td>\n",
       "      <td>True</td>\n",
       "    </tr>\n",
       "    <tr>\n",
       "      <th>6700</th>\n",
       "      <td>32.0</td>\n",
       "      <td>3.0</td>\n",
       "      <td>50000.0</td>\n",
       "      <td>True</td>\n",
       "      <td>False</td>\n",
       "      <td>False</td>\n",
       "      <td>True</td>\n",
       "      <td>False</td>\n",
       "      <td>False</td>\n",
       "    </tr>\n",
       "    <tr>\n",
       "      <th>6701</th>\n",
       "      <td>30.0</td>\n",
       "      <td>4.0</td>\n",
       "      <td>55000.0</td>\n",
       "      <td>False</td>\n",
       "      <td>False</td>\n",
       "      <td>True</td>\n",
       "      <td>False</td>\n",
       "      <td>False</td>\n",
       "      <td>False</td>\n",
       "    </tr>\n",
       "    <tr>\n",
       "      <th>6702</th>\n",
       "      <td>46.0</td>\n",
       "      <td>14.0</td>\n",
       "      <td>140000.0</td>\n",
       "      <td>True</td>\n",
       "      <td>False</td>\n",
       "      <td>False</td>\n",
       "      <td>False</td>\n",
       "      <td>True</td>\n",
       "      <td>False</td>\n",
       "    </tr>\n",
       "    <tr>\n",
       "      <th>6703</th>\n",
       "      <td>26.0</td>\n",
       "      <td>1.0</td>\n",
       "      <td>35000.0</td>\n",
       "      <td>False</td>\n",
       "      <td>False</td>\n",
       "      <td>False</td>\n",
       "      <td>True</td>\n",
       "      <td>False</td>\n",
       "      <td>False</td>\n",
       "    </tr>\n",
       "  </tbody>\n",
       "</table>\n",
       "<p>6704 rows × 9 columns</p>\n",
       "</div>"
      ],
      "text/plain": [
       "       Age  Years of Experience    Salary  Gender_Male  Gender_Other  \\\n",
       "0     32.0                  5.0   90000.0         True         False   \n",
       "1     28.0                  3.0   65000.0        False         False   \n",
       "2     45.0                 15.0  150000.0         True         False   \n",
       "3     36.0                  7.0   60000.0        False         False   \n",
       "4     52.0                 20.0  200000.0         True         False   \n",
       "...    ...                  ...       ...          ...           ...   \n",
       "6699  49.0                 20.0  200000.0        False         False   \n",
       "6700  32.0                  3.0   50000.0         True         False   \n",
       "6701  30.0                  4.0   55000.0        False         False   \n",
       "6702  46.0                 14.0  140000.0         True         False   \n",
       "6703  26.0                  1.0   35000.0        False         False   \n",
       "\n",
       "      Education Level_Bachelor's Degree  Education Level_High School  \\\n",
       "0                                 False                        False   \n",
       "1                                 False                        False   \n",
       "2                                 False                        False   \n",
       "3                                 False                        False   \n",
       "4                                 False                        False   \n",
       "...                                 ...                          ...   \n",
       "6699                              False                        False   \n",
       "6700                              False                         True   \n",
       "6701                               True                        False   \n",
       "6702                              False                        False   \n",
       "6703                              False                         True   \n",
       "\n",
       "      Education Level_Master's  Education Level_PhD  \n",
       "0                        False                False  \n",
       "1                         True                False  \n",
       "2                        False                 True  \n",
       "3                        False                False  \n",
       "4                         True                False  \n",
       "...                        ...                  ...  \n",
       "6699                     False                 True  \n",
       "6700                     False                False  \n",
       "6701                     False                False  \n",
       "6702                      True                False  \n",
       "6703                     False                False  \n",
       "\n",
       "[6704 rows x 9 columns]"
      ]
     },
     "execution_count": 15,
     "metadata": {},
     "output_type": "execute_result"
    }
   ],
   "source": [
    "salary_data=pd.get_dummies(salary_data_encode,drop_first=True)\n",
    "salary_data"
   ]
  },
  {
   "cell_type": "code",
   "execution_count": 16,
   "id": "c3526266",
   "metadata": {
    "execution": {
     "iopub.execute_input": "2025-01-04T11:26:47.165406Z",
     "iopub.status.busy": "2025-01-04T11:26:47.165019Z",
     "iopub.status.idle": "2025-01-04T11:26:47.704025Z",
     "shell.execute_reply": "2025-01-04T11:26:47.702898Z"
    },
    "papermill": {
     "duration": 0.552729,
     "end_time": "2025-01-04T11:26:47.706332",
     "exception": false,
     "start_time": "2025-01-04T11:26:47.153603",
     "status": "completed"
    },
    "tags": []
   },
   "outputs": [],
   "source": [
    "from sklearn.impute import KNNImputer\n",
    "imputer = KNNImputer(n_neighbors=2)\n",
    "salary_data_imputed = imputer.fit_transform(salary_data)\n",
    "salary_data = pd.DataFrame(salary_data_imputed, columns=salary_data.columns)"
   ]
  },
  {
   "cell_type": "code",
   "execution_count": 17,
   "id": "dedcfd85",
   "metadata": {
    "execution": {
     "iopub.execute_input": "2025-01-04T11:26:47.728895Z",
     "iopub.status.busy": "2025-01-04T11:26:47.728483Z",
     "iopub.status.idle": "2025-01-04T11:26:47.749935Z",
     "shell.execute_reply": "2025-01-04T11:26:47.748814Z"
    },
    "papermill": {
     "duration": 0.034796,
     "end_time": "2025-01-04T11:26:47.751867",
     "exception": false,
     "start_time": "2025-01-04T11:26:47.717071",
     "status": "completed"
    },
    "tags": []
   },
   "outputs": [
    {
     "data": {
      "text/html": [
       "<div>\n",
       "<style scoped>\n",
       "    .dataframe tbody tr th:only-of-type {\n",
       "        vertical-align: middle;\n",
       "    }\n",
       "\n",
       "    .dataframe tbody tr th {\n",
       "        vertical-align: top;\n",
       "    }\n",
       "\n",
       "    .dataframe thead th {\n",
       "        text-align: right;\n",
       "    }\n",
       "</style>\n",
       "<table border=\"1\" class=\"dataframe\">\n",
       "  <thead>\n",
       "    <tr style=\"text-align: right;\">\n",
       "      <th></th>\n",
       "      <th>Age</th>\n",
       "      <th>Years of Experience</th>\n",
       "      <th>Salary</th>\n",
       "      <th>Gender_Male</th>\n",
       "      <th>Gender_Other</th>\n",
       "      <th>Education Level_Bachelor's Degree</th>\n",
       "      <th>Education Level_High School</th>\n",
       "      <th>Education Level_Master's</th>\n",
       "      <th>Education Level_PhD</th>\n",
       "    </tr>\n",
       "  </thead>\n",
       "  <tbody>\n",
       "    <tr>\n",
       "      <th>0</th>\n",
       "      <td>-0.212909</td>\n",
       "      <td>-0.510911</td>\n",
       "      <td>-0.480018</td>\n",
       "      <td>0.908138</td>\n",
       "      <td>-0.045746</td>\n",
       "      <td>-0.714794</td>\n",
       "      <td>-0.267603</td>\n",
       "      <td>-0.619892</td>\n",
       "      <td>-0.506564</td>\n",
       "    </tr>\n",
       "    <tr>\n",
       "      <th>1</th>\n",
       "      <td>-0.738331</td>\n",
       "      <td>-0.841097</td>\n",
       "      <td>-0.953839</td>\n",
       "      <td>-1.101155</td>\n",
       "      <td>-0.045746</td>\n",
       "      <td>-0.714794</td>\n",
       "      <td>-0.267603</td>\n",
       "      <td>1.613185</td>\n",
       "      <td>-0.506564</td>\n",
       "    </tr>\n",
       "    <tr>\n",
       "      <th>2</th>\n",
       "      <td>1.494713</td>\n",
       "      <td>1.140018</td>\n",
       "      <td>0.657152</td>\n",
       "      <td>0.908138</td>\n",
       "      <td>-0.045746</td>\n",
       "      <td>-0.714794</td>\n",
       "      <td>-0.267603</td>\n",
       "      <td>-0.619892</td>\n",
       "      <td>1.974083</td>\n",
       "    </tr>\n",
       "    <tr>\n",
       "      <th>3</th>\n",
       "      <td>0.312513</td>\n",
       "      <td>-0.180725</td>\n",
       "      <td>-1.048603</td>\n",
       "      <td>-1.101155</td>\n",
       "      <td>-0.045746</td>\n",
       "      <td>-0.714794</td>\n",
       "      <td>-0.267603</td>\n",
       "      <td>-0.619892</td>\n",
       "      <td>-0.506564</td>\n",
       "    </tr>\n",
       "    <tr>\n",
       "      <th>4</th>\n",
       "      <td>2.414201</td>\n",
       "      <td>1.965483</td>\n",
       "      <td>1.604794</td>\n",
       "      <td>0.908138</td>\n",
       "      <td>-0.045746</td>\n",
       "      <td>-0.714794</td>\n",
       "      <td>-0.267603</td>\n",
       "      <td>1.613185</td>\n",
       "      <td>-0.506564</td>\n",
       "    </tr>\n",
       "    <tr>\n",
       "      <th>...</th>\n",
       "      <td>...</td>\n",
       "      <td>...</td>\n",
       "      <td>...</td>\n",
       "      <td>...</td>\n",
       "      <td>...</td>\n",
       "      <td>...</td>\n",
       "      <td>...</td>\n",
       "      <td>...</td>\n",
       "      <td>...</td>\n",
       "    </tr>\n",
       "    <tr>\n",
       "      <th>6699</th>\n",
       "      <td>2.020135</td>\n",
       "      <td>1.965483</td>\n",
       "      <td>1.604794</td>\n",
       "      <td>-1.101155</td>\n",
       "      <td>-0.045746</td>\n",
       "      <td>-0.714794</td>\n",
       "      <td>-0.267603</td>\n",
       "      <td>-0.619892</td>\n",
       "      <td>1.974083</td>\n",
       "    </tr>\n",
       "    <tr>\n",
       "      <th>6700</th>\n",
       "      <td>-0.212909</td>\n",
       "      <td>-0.841097</td>\n",
       "      <td>-1.238131</td>\n",
       "      <td>0.908138</td>\n",
       "      <td>-0.045746</td>\n",
       "      <td>-0.714794</td>\n",
       "      <td>3.736882</td>\n",
       "      <td>-0.619892</td>\n",
       "      <td>-0.506564</td>\n",
       "    </tr>\n",
       "    <tr>\n",
       "      <th>6701</th>\n",
       "      <td>-0.475620</td>\n",
       "      <td>-0.676004</td>\n",
       "      <td>-1.143367</td>\n",
       "      <td>-1.101155</td>\n",
       "      <td>-0.045746</td>\n",
       "      <td>1.399004</td>\n",
       "      <td>-0.267603</td>\n",
       "      <td>-0.619892</td>\n",
       "      <td>-0.506564</td>\n",
       "    </tr>\n",
       "    <tr>\n",
       "      <th>6702</th>\n",
       "      <td>1.626068</td>\n",
       "      <td>0.974925</td>\n",
       "      <td>0.467624</td>\n",
       "      <td>0.908138</td>\n",
       "      <td>-0.045746</td>\n",
       "      <td>-0.714794</td>\n",
       "      <td>-0.267603</td>\n",
       "      <td>1.613185</td>\n",
       "      <td>-0.506564</td>\n",
       "    </tr>\n",
       "    <tr>\n",
       "      <th>6703</th>\n",
       "      <td>-1.001042</td>\n",
       "      <td>-1.171283</td>\n",
       "      <td>-1.522424</td>\n",
       "      <td>-1.101155</td>\n",
       "      <td>-0.045746</td>\n",
       "      <td>-0.714794</td>\n",
       "      <td>3.736882</td>\n",
       "      <td>-0.619892</td>\n",
       "      <td>-0.506564</td>\n",
       "    </tr>\n",
       "  </tbody>\n",
       "</table>\n",
       "<p>6704 rows × 9 columns</p>\n",
       "</div>"
      ],
      "text/plain": [
       "           Age  Years of Experience    Salary  Gender_Male  Gender_Other  \\\n",
       "0    -0.212909            -0.510911 -0.480018     0.908138     -0.045746   \n",
       "1    -0.738331            -0.841097 -0.953839    -1.101155     -0.045746   \n",
       "2     1.494713             1.140018  0.657152     0.908138     -0.045746   \n",
       "3     0.312513            -0.180725 -1.048603    -1.101155     -0.045746   \n",
       "4     2.414201             1.965483  1.604794     0.908138     -0.045746   \n",
       "...        ...                  ...       ...          ...           ...   \n",
       "6699  2.020135             1.965483  1.604794    -1.101155     -0.045746   \n",
       "6700 -0.212909            -0.841097 -1.238131     0.908138     -0.045746   \n",
       "6701 -0.475620            -0.676004 -1.143367    -1.101155     -0.045746   \n",
       "6702  1.626068             0.974925  0.467624     0.908138     -0.045746   \n",
       "6703 -1.001042            -1.171283 -1.522424    -1.101155     -0.045746   \n",
       "\n",
       "      Education Level_Bachelor's Degree  Education Level_High School  \\\n",
       "0                             -0.714794                    -0.267603   \n",
       "1                             -0.714794                    -0.267603   \n",
       "2                             -0.714794                    -0.267603   \n",
       "3                             -0.714794                    -0.267603   \n",
       "4                             -0.714794                    -0.267603   \n",
       "...                                 ...                          ...   \n",
       "6699                          -0.714794                    -0.267603   \n",
       "6700                          -0.714794                     3.736882   \n",
       "6701                           1.399004                    -0.267603   \n",
       "6702                          -0.714794                    -0.267603   \n",
       "6703                          -0.714794                     3.736882   \n",
       "\n",
       "      Education Level_Master's  Education Level_PhD  \n",
       "0                    -0.619892            -0.506564  \n",
       "1                     1.613185            -0.506564  \n",
       "2                    -0.619892             1.974083  \n",
       "3                    -0.619892            -0.506564  \n",
       "4                     1.613185            -0.506564  \n",
       "...                        ...                  ...  \n",
       "6699                 -0.619892             1.974083  \n",
       "6700                 -0.619892            -0.506564  \n",
       "6701                 -0.619892            -0.506564  \n",
       "6702                  1.613185            -0.506564  \n",
       "6703                 -0.619892            -0.506564  \n",
       "\n",
       "[6704 rows x 9 columns]"
      ]
     },
     "execution_count": 17,
     "metadata": {},
     "output_type": "execute_result"
    }
   ],
   "source": [
    "from sklearn.preprocessing import StandardScaler\n",
    "scaler = StandardScaler()\n",
    "scaled_standard = scaler.fit_transform(salary_data)\n",
    "salary_data_scaled=pd.DataFrame(scaled_standard, columns=salary_data.columns)\n",
    "salary_data_scaled"
   ]
  },
  {
   "cell_type": "code",
   "execution_count": 18,
   "id": "74658226",
   "metadata": {
    "execution": {
     "iopub.execute_input": "2025-01-04T11:26:47.775049Z",
     "iopub.status.busy": "2025-01-04T11:26:47.774650Z",
     "iopub.status.idle": "2025-01-04T11:26:47.778513Z",
     "shell.execute_reply": "2025-01-04T11:26:47.777570Z"
    },
    "jupyter": {
     "source_hidden": true
    },
    "papermill": {
     "duration": 0.017153,
     "end_time": "2025-01-04T11:26:47.780268",
     "exception": false,
     "start_time": "2025-01-04T11:26:47.763115",
     "status": "completed"
    },
    "tags": []
   },
   "outputs": [],
   "source": [
    "#LINEAR REGRESSION"
   ]
  },
  {
   "cell_type": "code",
   "execution_count": 19,
   "id": "06921b93",
   "metadata": {
    "execution": {
     "iopub.execute_input": "2025-01-04T11:26:47.804089Z",
     "iopub.status.busy": "2025-01-04T11:26:47.803581Z",
     "iopub.status.idle": "2025-01-04T11:26:47.808598Z",
     "shell.execute_reply": "2025-01-04T11:26:47.807378Z"
    },
    "papermill": {
     "duration": 0.018744,
     "end_time": "2025-01-04T11:26:47.810557",
     "exception": false,
     "start_time": "2025-01-04T11:26:47.791813",
     "status": "completed"
    },
    "tags": []
   },
   "outputs": [],
   "source": [
    "from sklearn.linear_model import LinearRegression\n",
    "from sklearn.model_selection import train_test_split "
   ]
  },
  {
   "cell_type": "code",
   "execution_count": 20,
   "id": "e74561ca",
   "metadata": {
    "execution": {
     "iopub.execute_input": "2025-01-04T11:26:47.835468Z",
     "iopub.status.busy": "2025-01-04T11:26:47.835128Z",
     "iopub.status.idle": "2025-01-04T11:26:47.843866Z",
     "shell.execute_reply": "2025-01-04T11:26:47.842846Z"
    },
    "papermill": {
     "duration": 0.022407,
     "end_time": "2025-01-04T11:26:47.845749",
     "exception": false,
     "start_time": "2025-01-04T11:26:47.823342",
     "status": "completed"
    },
    "tags": []
   },
   "outputs": [],
   "source": [
    "X = salary_data_scaled.drop('Salary',axis=1)\n",
    "y = salary_data_scaled['Salary'].values.reshape(-1,1)\n",
    "X_train, X_test, y_train, y_test = train_test_split(X, y, test_size=0.20)\n",
    "model = LinearRegression()"
   ]
  },
  {
   "cell_type": "code",
   "execution_count": 21,
   "id": "93ba4683",
   "metadata": {
    "execution": {
     "iopub.execute_input": "2025-01-04T11:26:47.868956Z",
     "iopub.status.busy": "2025-01-04T11:26:47.868523Z",
     "iopub.status.idle": "2025-01-04T11:26:47.905852Z",
     "shell.execute_reply": "2025-01-04T11:26:47.904598Z"
    },
    "papermill": {
     "duration": 0.050893,
     "end_time": "2025-01-04T11:26:47.907814",
     "exception": false,
     "start_time": "2025-01-04T11:26:47.856921",
     "status": "completed"
    },
    "tags": []
   },
   "outputs": [
    {
     "data": {
      "text/html": [
       "<style>#sk-container-id-1 {color: black;background-color: white;}#sk-container-id-1 pre{padding: 0;}#sk-container-id-1 div.sk-toggleable {background-color: white;}#sk-container-id-1 label.sk-toggleable__label {cursor: pointer;display: block;width: 100%;margin-bottom: 0;padding: 0.3em;box-sizing: border-box;text-align: center;}#sk-container-id-1 label.sk-toggleable__label-arrow:before {content: \"▸\";float: left;margin-right: 0.25em;color: #696969;}#sk-container-id-1 label.sk-toggleable__label-arrow:hover:before {color: black;}#sk-container-id-1 div.sk-estimator:hover label.sk-toggleable__label-arrow:before {color: black;}#sk-container-id-1 div.sk-toggleable__content {max-height: 0;max-width: 0;overflow: hidden;text-align: left;background-color: #f0f8ff;}#sk-container-id-1 div.sk-toggleable__content pre {margin: 0.2em;color: black;border-radius: 0.25em;background-color: #f0f8ff;}#sk-container-id-1 input.sk-toggleable__control:checked~div.sk-toggleable__content {max-height: 200px;max-width: 100%;overflow: auto;}#sk-container-id-1 input.sk-toggleable__control:checked~label.sk-toggleable__label-arrow:before {content: \"▾\";}#sk-container-id-1 div.sk-estimator input.sk-toggleable__control:checked~label.sk-toggleable__label {background-color: #d4ebff;}#sk-container-id-1 div.sk-label input.sk-toggleable__control:checked~label.sk-toggleable__label {background-color: #d4ebff;}#sk-container-id-1 input.sk-hidden--visually {border: 0;clip: rect(1px 1px 1px 1px);clip: rect(1px, 1px, 1px, 1px);height: 1px;margin: -1px;overflow: hidden;padding: 0;position: absolute;width: 1px;}#sk-container-id-1 div.sk-estimator {font-family: monospace;background-color: #f0f8ff;border: 1px dotted black;border-radius: 0.25em;box-sizing: border-box;margin-bottom: 0.5em;}#sk-container-id-1 div.sk-estimator:hover {background-color: #d4ebff;}#sk-container-id-1 div.sk-parallel-item::after {content: \"\";width: 100%;border-bottom: 1px solid gray;flex-grow: 1;}#sk-container-id-1 div.sk-label:hover label.sk-toggleable__label {background-color: #d4ebff;}#sk-container-id-1 div.sk-serial::before {content: \"\";position: absolute;border-left: 1px solid gray;box-sizing: border-box;top: 0;bottom: 0;left: 50%;z-index: 0;}#sk-container-id-1 div.sk-serial {display: flex;flex-direction: column;align-items: center;background-color: white;padding-right: 0.2em;padding-left: 0.2em;position: relative;}#sk-container-id-1 div.sk-item {position: relative;z-index: 1;}#sk-container-id-1 div.sk-parallel {display: flex;align-items: stretch;justify-content: center;background-color: white;position: relative;}#sk-container-id-1 div.sk-item::before, #sk-container-id-1 div.sk-parallel-item::before {content: \"\";position: absolute;border-left: 1px solid gray;box-sizing: border-box;top: 0;bottom: 0;left: 50%;z-index: -1;}#sk-container-id-1 div.sk-parallel-item {display: flex;flex-direction: column;z-index: 1;position: relative;background-color: white;}#sk-container-id-1 div.sk-parallel-item:first-child::after {align-self: flex-end;width: 50%;}#sk-container-id-1 div.sk-parallel-item:last-child::after {align-self: flex-start;width: 50%;}#sk-container-id-1 div.sk-parallel-item:only-child::after {width: 0;}#sk-container-id-1 div.sk-dashed-wrapped {border: 1px dashed gray;margin: 0 0.4em 0.5em 0.4em;box-sizing: border-box;padding-bottom: 0.4em;background-color: white;}#sk-container-id-1 div.sk-label label {font-family: monospace;font-weight: bold;display: inline-block;line-height: 1.2em;}#sk-container-id-1 div.sk-label-container {text-align: center;}#sk-container-id-1 div.sk-container {/* jupyter's `normalize.less` sets `[hidden] { display: none; }` but bootstrap.min.css set `[hidden] { display: none !important; }` so we also need the `!important` here to be able to override the default hidden behavior on the sphinx rendered scikit-learn.org. See: https://github.com/scikit-learn/scikit-learn/issues/21755 */display: inline-block !important;position: relative;}#sk-container-id-1 div.sk-text-repr-fallback {display: none;}</style><div id=\"sk-container-id-1\" class=\"sk-top-container\"><div class=\"sk-text-repr-fallback\"><pre>LinearRegression()</pre><b>In a Jupyter environment, please rerun this cell to show the HTML representation or trust the notebook. <br />On GitHub, the HTML representation is unable to render, please try loading this page with nbviewer.org.</b></div><div class=\"sk-container\" hidden><div class=\"sk-item\"><div class=\"sk-estimator sk-toggleable\"><input class=\"sk-toggleable__control sk-hidden--visually\" id=\"sk-estimator-id-1\" type=\"checkbox\" checked><label for=\"sk-estimator-id-1\" class=\"sk-toggleable__label sk-toggleable__label-arrow\">LinearRegression</label><div class=\"sk-toggleable__content\"><pre>LinearRegression()</pre></div></div></div></div></div>"
      ],
      "text/plain": [
       "LinearRegression()"
      ]
     },
     "execution_count": 21,
     "metadata": {},
     "output_type": "execute_result"
    }
   ],
   "source": [
    "model.fit(X_train,y_train)"
   ]
  },
  {
   "cell_type": "code",
   "execution_count": 22,
   "id": "e33b3f7c",
   "metadata": {
    "execution": {
     "iopub.execute_input": "2025-01-04T11:26:47.933106Z",
     "iopub.status.busy": "2025-01-04T11:26:47.932623Z",
     "iopub.status.idle": "2025-01-04T11:26:47.939175Z",
     "shell.execute_reply": "2025-01-04T11:26:47.938140Z"
    },
    "papermill": {
     "duration": 0.021784,
     "end_time": "2025-01-04T11:26:47.941167",
     "exception": false,
     "start_time": "2025-01-04T11:26:47.919383",
     "status": "completed"
    },
    "tags": []
   },
   "outputs": [
    {
     "data": {
      "text/plain": [
       "(1341, 1)"
      ]
     },
     "execution_count": 22,
     "metadata": {},
     "output_type": "execute_result"
    }
   ],
   "source": [
    "y_test.shape"
   ]
  },
  {
   "cell_type": "code",
   "execution_count": 23,
   "id": "1a12ef2e",
   "metadata": {
    "execution": {
     "iopub.execute_input": "2025-01-04T11:26:47.970144Z",
     "iopub.status.busy": "2025-01-04T11:26:47.969669Z",
     "iopub.status.idle": "2025-01-04T11:26:47.978305Z",
     "shell.execute_reply": "2025-01-04T11:26:47.977436Z"
    },
    "papermill": {
     "duration": 0.025129,
     "end_time": "2025-01-04T11:26:47.982307",
     "exception": false,
     "start_time": "2025-01-04T11:26:47.957178",
     "status": "completed"
    },
    "tags": []
   },
   "outputs": [
    {
     "data": {
      "text/plain": [
       "(1341, 1)"
      ]
     },
     "execution_count": 23,
     "metadata": {},
     "output_type": "execute_result"
    }
   ],
   "source": [
    "model.predict(X_test).shape"
   ]
  },
  {
   "cell_type": "code",
   "execution_count": 24,
   "id": "93f9fac2",
   "metadata": {
    "execution": {
     "iopub.execute_input": "2025-01-04T11:26:48.047102Z",
     "iopub.status.busy": "2025-01-04T11:26:48.046564Z",
     "iopub.status.idle": "2025-01-04T11:26:48.060746Z",
     "shell.execute_reply": "2025-01-04T11:26:48.059657Z"
    },
    "papermill": {
     "duration": 0.040412,
     "end_time": "2025-01-04T11:26:48.063731",
     "exception": false,
     "start_time": "2025-01-04T11:26:48.023319",
     "status": "completed"
    },
    "tags": []
   },
   "outputs": [
    {
     "data": {
      "text/plain": [
       "0.7584978032256849"
      ]
     },
     "execution_count": 24,
     "metadata": {},
     "output_type": "execute_result"
    }
   ],
   "source": [
    "model.score(X_test, y_test) "
   ]
  },
  {
   "cell_type": "code",
   "execution_count": 25,
   "id": "a9d5496e",
   "metadata": {
    "execution": {
     "iopub.execute_input": "2025-01-04T11:26:48.108531Z",
     "iopub.status.busy": "2025-01-04T11:26:48.108042Z",
     "iopub.status.idle": "2025-01-04T11:26:48.120376Z",
     "shell.execute_reply": "2025-01-04T11:26:48.119185Z"
    },
    "papermill": {
     "duration": 0.037549,
     "end_time": "2025-01-04T11:26:48.122837",
     "exception": false,
     "start_time": "2025-01-04T11:26:48.085288",
     "status": "completed"
    },
    "tags": []
   },
   "outputs": [],
   "source": [
    "y_pred = model.predict(X_test)\n",
    "y_pred_train = model.predict(X_train)"
   ]
  },
  {
   "cell_type": "code",
   "execution_count": 26,
   "id": "b1f7d731",
   "metadata": {
    "execution": {
     "iopub.execute_input": "2025-01-04T11:26:48.168575Z",
     "iopub.status.busy": "2025-01-04T11:26:48.168113Z",
     "iopub.status.idle": "2025-01-04T11:26:48.180723Z",
     "shell.execute_reply": "2025-01-04T11:26:48.179591Z"
    },
    "papermill": {
     "duration": 0.03816,
     "end_time": "2025-01-04T11:26:48.183482",
     "exception": false,
     "start_time": "2025-01-04T11:26:48.145322",
     "status": "completed"
    },
    "tags": []
   },
   "outputs": [
    {
     "data": {
      "text/plain": [
       "0.7584978032256849"
      ]
     },
     "execution_count": 26,
     "metadata": {},
     "output_type": "execute_result"
    }
   ],
   "source": [
    "from sklearn.metrics import r2_score\n",
    "r2 = r2_score(y_test, y_pred)\n",
    "r2"
   ]
  },
  {
   "cell_type": "code",
   "execution_count": 27,
   "id": "5ba882d2",
   "metadata": {
    "execution": {
     "iopub.execute_input": "2025-01-04T11:26:48.229065Z",
     "iopub.status.busy": "2025-01-04T11:26:48.228549Z",
     "iopub.status.idle": "2025-01-04T11:26:48.235807Z",
     "shell.execute_reply": "2025-01-04T11:26:48.234664Z"
    },
    "jupyter": {
     "source_hidden": true
    },
    "papermill": {
     "duration": 0.033596,
     "end_time": "2025-01-04T11:26:48.239098",
     "exception": false,
     "start_time": "2025-01-04T11:26:48.205502",
     "status": "completed"
    },
    "tags": []
   },
   "outputs": [],
   "source": [
    "# DIFFERENCE BETWEEN OTHER MODELS"
   ]
  },
  {
   "cell_type": "code",
   "execution_count": 28,
   "id": "1fa7ebf5",
   "metadata": {
    "execution": {
     "iopub.execute_input": "2025-01-04T11:26:48.264769Z",
     "iopub.status.busy": "2025-01-04T11:26:48.264374Z",
     "iopub.status.idle": "2025-01-04T11:26:48.313144Z",
     "shell.execute_reply": "2025-01-04T11:26:48.312135Z"
    },
    "papermill": {
     "duration": 0.063679,
     "end_time": "2025-01-04T11:26:48.315163",
     "exception": false,
     "start_time": "2025-01-04T11:26:48.251484",
     "status": "completed"
    },
    "tags": []
   },
   "outputs": [],
   "source": [
    "from sklearn.linear_model import LinearRegression\n",
    "from sklearn.svm import SVR\n",
    "from sklearn.tree import DecisionTreeRegressor"
   ]
  },
  {
   "cell_type": "code",
   "execution_count": 29,
   "id": "e30ba6fb",
   "metadata": {
    "execution": {
     "iopub.execute_input": "2025-01-04T11:26:48.340778Z",
     "iopub.status.busy": "2025-01-04T11:26:48.340389Z",
     "iopub.status.idle": "2025-01-04T11:26:48.344871Z",
     "shell.execute_reply": "2025-01-04T11:26:48.343892Z"
    },
    "papermill": {
     "duration": 0.01921,
     "end_time": "2025-01-04T11:26:48.346585",
     "exception": false,
     "start_time": "2025-01-04T11:26:48.327375",
     "status": "completed"
    },
    "tags": []
   },
   "outputs": [],
   "source": [
    "model1 = LinearRegression()\n",
    "model2 = SVR()\n",
    "model3 = DecisionTreeRegressor()"
   ]
  },
  {
   "cell_type": "code",
   "execution_count": 30,
   "id": "7ad7ba2c",
   "metadata": {
    "execution": {
     "iopub.execute_input": "2025-01-04T11:26:48.372226Z",
     "iopub.status.busy": "2025-01-04T11:26:48.371888Z",
     "iopub.status.idle": "2025-01-04T11:26:49.534962Z",
     "shell.execute_reply": "2025-01-04T11:26:49.533623Z"
    },
    "papermill": {
     "duration": 1.178524,
     "end_time": "2025-01-04T11:26:49.537153",
     "exception": false,
     "start_time": "2025-01-04T11:26:48.358629",
     "status": "completed"
    },
    "tags": []
   },
   "outputs": [
    {
     "data": {
      "text/html": [
       "<style>#sk-container-id-2 {color: black;background-color: white;}#sk-container-id-2 pre{padding: 0;}#sk-container-id-2 div.sk-toggleable {background-color: white;}#sk-container-id-2 label.sk-toggleable__label {cursor: pointer;display: block;width: 100%;margin-bottom: 0;padding: 0.3em;box-sizing: border-box;text-align: center;}#sk-container-id-2 label.sk-toggleable__label-arrow:before {content: \"▸\";float: left;margin-right: 0.25em;color: #696969;}#sk-container-id-2 label.sk-toggleable__label-arrow:hover:before {color: black;}#sk-container-id-2 div.sk-estimator:hover label.sk-toggleable__label-arrow:before {color: black;}#sk-container-id-2 div.sk-toggleable__content {max-height: 0;max-width: 0;overflow: hidden;text-align: left;background-color: #f0f8ff;}#sk-container-id-2 div.sk-toggleable__content pre {margin: 0.2em;color: black;border-radius: 0.25em;background-color: #f0f8ff;}#sk-container-id-2 input.sk-toggleable__control:checked~div.sk-toggleable__content {max-height: 200px;max-width: 100%;overflow: auto;}#sk-container-id-2 input.sk-toggleable__control:checked~label.sk-toggleable__label-arrow:before {content: \"▾\";}#sk-container-id-2 div.sk-estimator input.sk-toggleable__control:checked~label.sk-toggleable__label {background-color: #d4ebff;}#sk-container-id-2 div.sk-label input.sk-toggleable__control:checked~label.sk-toggleable__label {background-color: #d4ebff;}#sk-container-id-2 input.sk-hidden--visually {border: 0;clip: rect(1px 1px 1px 1px);clip: rect(1px, 1px, 1px, 1px);height: 1px;margin: -1px;overflow: hidden;padding: 0;position: absolute;width: 1px;}#sk-container-id-2 div.sk-estimator {font-family: monospace;background-color: #f0f8ff;border: 1px dotted black;border-radius: 0.25em;box-sizing: border-box;margin-bottom: 0.5em;}#sk-container-id-2 div.sk-estimator:hover {background-color: #d4ebff;}#sk-container-id-2 div.sk-parallel-item::after {content: \"\";width: 100%;border-bottom: 1px solid gray;flex-grow: 1;}#sk-container-id-2 div.sk-label:hover label.sk-toggleable__label {background-color: #d4ebff;}#sk-container-id-2 div.sk-serial::before {content: \"\";position: absolute;border-left: 1px solid gray;box-sizing: border-box;top: 0;bottom: 0;left: 50%;z-index: 0;}#sk-container-id-2 div.sk-serial {display: flex;flex-direction: column;align-items: center;background-color: white;padding-right: 0.2em;padding-left: 0.2em;position: relative;}#sk-container-id-2 div.sk-item {position: relative;z-index: 1;}#sk-container-id-2 div.sk-parallel {display: flex;align-items: stretch;justify-content: center;background-color: white;position: relative;}#sk-container-id-2 div.sk-item::before, #sk-container-id-2 div.sk-parallel-item::before {content: \"\";position: absolute;border-left: 1px solid gray;box-sizing: border-box;top: 0;bottom: 0;left: 50%;z-index: -1;}#sk-container-id-2 div.sk-parallel-item {display: flex;flex-direction: column;z-index: 1;position: relative;background-color: white;}#sk-container-id-2 div.sk-parallel-item:first-child::after {align-self: flex-end;width: 50%;}#sk-container-id-2 div.sk-parallel-item:last-child::after {align-self: flex-start;width: 50%;}#sk-container-id-2 div.sk-parallel-item:only-child::after {width: 0;}#sk-container-id-2 div.sk-dashed-wrapped {border: 1px dashed gray;margin: 0 0.4em 0.5em 0.4em;box-sizing: border-box;padding-bottom: 0.4em;background-color: white;}#sk-container-id-2 div.sk-label label {font-family: monospace;font-weight: bold;display: inline-block;line-height: 1.2em;}#sk-container-id-2 div.sk-label-container {text-align: center;}#sk-container-id-2 div.sk-container {/* jupyter's `normalize.less` sets `[hidden] { display: none; }` but bootstrap.min.css set `[hidden] { display: none !important; }` so we also need the `!important` here to be able to override the default hidden behavior on the sphinx rendered scikit-learn.org. See: https://github.com/scikit-learn/scikit-learn/issues/21755 */display: inline-block !important;position: relative;}#sk-container-id-2 div.sk-text-repr-fallback {display: none;}</style><div id=\"sk-container-id-2\" class=\"sk-top-container\"><div class=\"sk-text-repr-fallback\"><pre>DecisionTreeRegressor()</pre><b>In a Jupyter environment, please rerun this cell to show the HTML representation or trust the notebook. <br />On GitHub, the HTML representation is unable to render, please try loading this page with nbviewer.org.</b></div><div class=\"sk-container\" hidden><div class=\"sk-item\"><div class=\"sk-estimator sk-toggleable\"><input class=\"sk-toggleable__control sk-hidden--visually\" id=\"sk-estimator-id-2\" type=\"checkbox\" checked><label for=\"sk-estimator-id-2\" class=\"sk-toggleable__label sk-toggleable__label-arrow\">DecisionTreeRegressor</label><div class=\"sk-toggleable__content\"><pre>DecisionTreeRegressor()</pre></div></div></div></div></div>"
      ],
      "text/plain": [
       "DecisionTreeRegressor()"
      ]
     },
     "execution_count": 30,
     "metadata": {},
     "output_type": "execute_result"
    }
   ],
   "source": [
    "model1.fit(X_train, y_train)\n",
    "model2.fit(X_train, y_train)\n",
    "model3.fit(X_train, y_train)"
   ]
  },
  {
   "cell_type": "code",
   "execution_count": 31,
   "id": "abb45c72",
   "metadata": {
    "execution": {
     "iopub.execute_input": "2025-01-04T11:26:49.565022Z",
     "iopub.status.busy": "2025-01-04T11:26:49.564575Z",
     "iopub.status.idle": "2025-01-04T11:26:49.886053Z",
     "shell.execute_reply": "2025-01-04T11:26:49.885070Z"
    },
    "papermill": {
     "duration": 0.337066,
     "end_time": "2025-01-04T11:26:49.888092",
     "exception": false,
     "start_time": "2025-01-04T11:26:49.551026",
     "status": "completed"
    },
    "tags": []
   },
   "outputs": [],
   "source": [
    "model1_pred = model1.predict(X_test)\n",
    "model2_pred = model2.predict(X_test)\n",
    "model3_pred = model3.predict(X_test)"
   ]
  },
  {
   "cell_type": "code",
   "execution_count": 32,
   "id": "266881f4",
   "metadata": {
    "execution": {
     "iopub.execute_input": "2025-01-04T11:26:49.914284Z",
     "iopub.status.busy": "2025-01-04T11:26:49.913931Z",
     "iopub.status.idle": "2025-01-04T11:26:49.921976Z",
     "shell.execute_reply": "2025-01-04T11:26:49.920818Z"
    },
    "papermill": {
     "duration": 0.022867,
     "end_time": "2025-01-04T11:26:49.923592",
     "exception": false,
     "start_time": "2025-01-04T11:26:49.900725",
     "status": "completed"
    },
    "tags": []
   },
   "outputs": [
    {
     "name": "stdout",
     "output_type": "stream",
     "text": [
      "0.7584978032256849\n",
      "0.8627286996337773\n",
      "0.9362047970878156\n"
     ]
    }
   ],
   "source": [
    "print(r2_score(y_test, model1_pred))\n",
    "print(r2_score(y_test, model2_pred))\n",
    "print(r2_score(y_test, model3_pred))"
   ]
  },
  {
   "cell_type": "code",
   "execution_count": 33,
   "id": "5110ac98",
   "metadata": {
    "execution": {
     "iopub.execute_input": "2025-01-04T11:26:49.950067Z",
     "iopub.status.busy": "2025-01-04T11:26:49.949649Z",
     "iopub.status.idle": "2025-01-04T11:26:49.953878Z",
     "shell.execute_reply": "2025-01-04T11:26:49.952930Z"
    },
    "jupyter": {
     "source_hidden": true
    },
    "papermill": {
     "duration": 0.019526,
     "end_time": "2025-01-04T11:26:49.955495",
     "exception": false,
     "start_time": "2025-01-04T11:26:49.935969",
     "status": "completed"
    },
    "tags": []
   },
   "outputs": [],
   "source": [
    "# APPLY VOTING REGRESSOR"
   ]
  },
  {
   "cell_type": "code",
   "execution_count": 34,
   "id": "cdf734ea",
   "metadata": {
    "execution": {
     "iopub.execute_input": "2025-01-04T11:26:49.981617Z",
     "iopub.status.busy": "2025-01-04T11:26:49.981288Z",
     "iopub.status.idle": "2025-01-04T11:26:50.122260Z",
     "shell.execute_reply": "2025-01-04T11:26:50.121149Z"
    },
    "papermill": {
     "duration": 0.156335,
     "end_time": "2025-01-04T11:26:50.124394",
     "exception": false,
     "start_time": "2025-01-04T11:26:49.968059",
     "status": "completed"
    },
    "tags": []
   },
   "outputs": [],
   "source": [
    "from sklearn.ensemble import VotingRegressor"
   ]
  },
  {
   "cell_type": "code",
   "execution_count": 35,
   "id": "dc3f99ac",
   "metadata": {
    "execution": {
     "iopub.execute_input": "2025-01-04T11:26:50.159060Z",
     "iopub.status.busy": "2025-01-04T11:26:50.158507Z",
     "iopub.status.idle": "2025-01-04T11:26:50.164457Z",
     "shell.execute_reply": "2025-01-04T11:26:50.163106Z"
    },
    "papermill": {
     "duration": 0.023427,
     "end_time": "2025-01-04T11:26:50.166495",
     "exception": false,
     "start_time": "2025-01-04T11:26:50.143068",
     "status": "completed"
    },
    "tags": []
   },
   "outputs": [],
   "source": [
    "estimators = [('lr', model1), ('svr', model2), ('dt', model3)]\n",
    "voting_reg = VotingRegressor(estimators)"
   ]
  },
  {
   "cell_type": "code",
   "execution_count": 36,
   "id": "b11c4a04",
   "metadata": {
    "execution": {
     "iopub.execute_input": "2025-01-04T11:26:50.198768Z",
     "iopub.status.busy": "2025-01-04T11:26:50.198389Z",
     "iopub.status.idle": "2025-01-04T11:26:51.420432Z",
     "shell.execute_reply": "2025-01-04T11:26:51.419317Z"
    },
    "papermill": {
     "duration": 1.237462,
     "end_time": "2025-01-04T11:26:51.422445",
     "exception": false,
     "start_time": "2025-01-04T11:26:50.184983",
     "status": "completed"
    },
    "tags": []
   },
   "outputs": [
    {
     "data": {
      "text/html": [
       "<style>#sk-container-id-3 {color: black;background-color: white;}#sk-container-id-3 pre{padding: 0;}#sk-container-id-3 div.sk-toggleable {background-color: white;}#sk-container-id-3 label.sk-toggleable__label {cursor: pointer;display: block;width: 100%;margin-bottom: 0;padding: 0.3em;box-sizing: border-box;text-align: center;}#sk-container-id-3 label.sk-toggleable__label-arrow:before {content: \"▸\";float: left;margin-right: 0.25em;color: #696969;}#sk-container-id-3 label.sk-toggleable__label-arrow:hover:before {color: black;}#sk-container-id-3 div.sk-estimator:hover label.sk-toggleable__label-arrow:before {color: black;}#sk-container-id-3 div.sk-toggleable__content {max-height: 0;max-width: 0;overflow: hidden;text-align: left;background-color: #f0f8ff;}#sk-container-id-3 div.sk-toggleable__content pre {margin: 0.2em;color: black;border-radius: 0.25em;background-color: #f0f8ff;}#sk-container-id-3 input.sk-toggleable__control:checked~div.sk-toggleable__content {max-height: 200px;max-width: 100%;overflow: auto;}#sk-container-id-3 input.sk-toggleable__control:checked~label.sk-toggleable__label-arrow:before {content: \"▾\";}#sk-container-id-3 div.sk-estimator input.sk-toggleable__control:checked~label.sk-toggleable__label {background-color: #d4ebff;}#sk-container-id-3 div.sk-label input.sk-toggleable__control:checked~label.sk-toggleable__label {background-color: #d4ebff;}#sk-container-id-3 input.sk-hidden--visually {border: 0;clip: rect(1px 1px 1px 1px);clip: rect(1px, 1px, 1px, 1px);height: 1px;margin: -1px;overflow: hidden;padding: 0;position: absolute;width: 1px;}#sk-container-id-3 div.sk-estimator {font-family: monospace;background-color: #f0f8ff;border: 1px dotted black;border-radius: 0.25em;box-sizing: border-box;margin-bottom: 0.5em;}#sk-container-id-3 div.sk-estimator:hover {background-color: #d4ebff;}#sk-container-id-3 div.sk-parallel-item::after {content: \"\";width: 100%;border-bottom: 1px solid gray;flex-grow: 1;}#sk-container-id-3 div.sk-label:hover label.sk-toggleable__label {background-color: #d4ebff;}#sk-container-id-3 div.sk-serial::before {content: \"\";position: absolute;border-left: 1px solid gray;box-sizing: border-box;top: 0;bottom: 0;left: 50%;z-index: 0;}#sk-container-id-3 div.sk-serial {display: flex;flex-direction: column;align-items: center;background-color: white;padding-right: 0.2em;padding-left: 0.2em;position: relative;}#sk-container-id-3 div.sk-item {position: relative;z-index: 1;}#sk-container-id-3 div.sk-parallel {display: flex;align-items: stretch;justify-content: center;background-color: white;position: relative;}#sk-container-id-3 div.sk-item::before, #sk-container-id-3 div.sk-parallel-item::before {content: \"\";position: absolute;border-left: 1px solid gray;box-sizing: border-box;top: 0;bottom: 0;left: 50%;z-index: -1;}#sk-container-id-3 div.sk-parallel-item {display: flex;flex-direction: column;z-index: 1;position: relative;background-color: white;}#sk-container-id-3 div.sk-parallel-item:first-child::after {align-self: flex-end;width: 50%;}#sk-container-id-3 div.sk-parallel-item:last-child::after {align-self: flex-start;width: 50%;}#sk-container-id-3 div.sk-parallel-item:only-child::after {width: 0;}#sk-container-id-3 div.sk-dashed-wrapped {border: 1px dashed gray;margin: 0 0.4em 0.5em 0.4em;box-sizing: border-box;padding-bottom: 0.4em;background-color: white;}#sk-container-id-3 div.sk-label label {font-family: monospace;font-weight: bold;display: inline-block;line-height: 1.2em;}#sk-container-id-3 div.sk-label-container {text-align: center;}#sk-container-id-3 div.sk-container {/* jupyter's `normalize.less` sets `[hidden] { display: none; }` but bootstrap.min.css set `[hidden] { display: none !important; }` so we also need the `!important` here to be able to override the default hidden behavior on the sphinx rendered scikit-learn.org. See: https://github.com/scikit-learn/scikit-learn/issues/21755 */display: inline-block !important;position: relative;}#sk-container-id-3 div.sk-text-repr-fallback {display: none;}</style><div id=\"sk-container-id-3\" class=\"sk-top-container\"><div class=\"sk-text-repr-fallback\"><pre>VotingRegressor(estimators=[(&#x27;lr&#x27;, LinearRegression()), (&#x27;svr&#x27;, SVR()),\n",
       "                            (&#x27;dt&#x27;, DecisionTreeRegressor())])</pre><b>In a Jupyter environment, please rerun this cell to show the HTML representation or trust the notebook. <br />On GitHub, the HTML representation is unable to render, please try loading this page with nbviewer.org.</b></div><div class=\"sk-container\" hidden><div class=\"sk-item sk-dashed-wrapped\"><div class=\"sk-label-container\"><div class=\"sk-label sk-toggleable\"><input class=\"sk-toggleable__control sk-hidden--visually\" id=\"sk-estimator-id-3\" type=\"checkbox\" ><label for=\"sk-estimator-id-3\" class=\"sk-toggleable__label sk-toggleable__label-arrow\">VotingRegressor</label><div class=\"sk-toggleable__content\"><pre>VotingRegressor(estimators=[(&#x27;lr&#x27;, LinearRegression()), (&#x27;svr&#x27;, SVR()),\n",
       "                            (&#x27;dt&#x27;, DecisionTreeRegressor())])</pre></div></div></div><div class=\"sk-parallel\"><div class=\"sk-parallel-item\"><div class=\"sk-item\"><div class=\"sk-label-container\"><div class=\"sk-label sk-toggleable\"><label>lr</label></div></div><div class=\"sk-serial\"><div class=\"sk-item\"><div class=\"sk-estimator sk-toggleable\"><input class=\"sk-toggleable__control sk-hidden--visually\" id=\"sk-estimator-id-4\" type=\"checkbox\" ><label for=\"sk-estimator-id-4\" class=\"sk-toggleable__label sk-toggleable__label-arrow\">LinearRegression</label><div class=\"sk-toggleable__content\"><pre>LinearRegression()</pre></div></div></div></div></div></div><div class=\"sk-parallel-item\"><div class=\"sk-item\"><div class=\"sk-label-container\"><div class=\"sk-label sk-toggleable\"><label>svr</label></div></div><div class=\"sk-serial\"><div class=\"sk-item\"><div class=\"sk-estimator sk-toggleable\"><input class=\"sk-toggleable__control sk-hidden--visually\" id=\"sk-estimator-id-5\" type=\"checkbox\" ><label for=\"sk-estimator-id-5\" class=\"sk-toggleable__label sk-toggleable__label-arrow\">SVR</label><div class=\"sk-toggleable__content\"><pre>SVR()</pre></div></div></div></div></div></div><div class=\"sk-parallel-item\"><div class=\"sk-item\"><div class=\"sk-label-container\"><div class=\"sk-label sk-toggleable\"><label>dt</label></div></div><div class=\"sk-serial\"><div class=\"sk-item\"><div class=\"sk-estimator sk-toggleable\"><input class=\"sk-toggleable__control sk-hidden--visually\" id=\"sk-estimator-id-6\" type=\"checkbox\" ><label for=\"sk-estimator-id-6\" class=\"sk-toggleable__label sk-toggleable__label-arrow\">DecisionTreeRegressor</label><div class=\"sk-toggleable__content\"><pre>DecisionTreeRegressor()</pre></div></div></div></div></div></div></div></div></div></div>"
      ],
      "text/plain": [
       "VotingRegressor(estimators=[('lr', LinearRegression()), ('svr', SVR()),\n",
       "                            ('dt', DecisionTreeRegressor())])"
      ]
     },
     "execution_count": 36,
     "metadata": {},
     "output_type": "execute_result"
    }
   ],
   "source": [
    "voting_reg.fit(X_train, y_train)"
   ]
  },
  {
   "cell_type": "code",
   "execution_count": 37,
   "id": "a29e16e1",
   "metadata": {
    "execution": {
     "iopub.execute_input": "2025-01-04T11:26:51.449222Z",
     "iopub.status.busy": "2025-01-04T11:26:51.448843Z",
     "iopub.status.idle": "2025-01-04T11:26:51.783374Z",
     "shell.execute_reply": "2025-01-04T11:26:51.782001Z"
    },
    "papermill": {
     "duration": 0.350143,
     "end_time": "2025-01-04T11:26:51.785478",
     "exception": false,
     "start_time": "2025-01-04T11:26:51.435335",
     "status": "completed"
    },
    "tags": []
   },
   "outputs": [],
   "source": [
    "voting_reg_pred = voting_reg.predict(X_test)"
   ]
  },
  {
   "cell_type": "code",
   "execution_count": 38,
   "id": "360a9f37",
   "metadata": {
    "execution": {
     "iopub.execute_input": "2025-01-04T11:26:51.818712Z",
     "iopub.status.busy": "2025-01-04T11:26:51.818312Z",
     "iopub.status.idle": "2025-01-04T11:26:51.825676Z",
     "shell.execute_reply": "2025-01-04T11:26:51.824346Z"
    },
    "papermill": {
     "duration": 0.025868,
     "end_time": "2025-01-04T11:26:51.827969",
     "exception": false,
     "start_time": "2025-01-04T11:26:51.802101",
     "status": "completed"
    },
    "tags": []
   },
   "outputs": [
    {
     "name": "stdout",
     "output_type": "stream",
     "text": [
      "0.8983907745428944\n"
     ]
    }
   ],
   "source": [
    "print(r2_score(y_test, voting_reg_pred))"
   ]
  },
  {
   "cell_type": "code",
   "execution_count": 39,
   "id": "213370e6",
   "metadata": {
    "execution": {
     "iopub.execute_input": "2025-01-04T11:26:51.859614Z",
     "iopub.status.busy": "2025-01-04T11:26:51.859269Z",
     "iopub.status.idle": "2025-01-04T11:26:51.863375Z",
     "shell.execute_reply": "2025-01-04T11:26:51.862252Z"
    },
    "jupyter": {
     "source_hidden": true
    },
    "papermill": {
     "duration": 0.022026,
     "end_time": "2025-01-04T11:26:51.865181",
     "exception": false,
     "start_time": "2025-01-04T11:26:51.843155",
     "status": "completed"
    },
    "tags": []
   },
   "outputs": [],
   "source": [
    "# APPLY XGBOOST REGRESSOR"
   ]
  },
  {
   "cell_type": "code",
   "execution_count": 40,
   "id": "a23ee54d",
   "metadata": {
    "execution": {
     "iopub.execute_input": "2025-01-04T11:26:51.893490Z",
     "iopub.status.busy": "2025-01-04T11:26:51.893138Z",
     "iopub.status.idle": "2025-01-04T11:26:57.778517Z",
     "shell.execute_reply": "2025-01-04T11:26:57.777190Z"
    },
    "jupyter": {
     "source_hidden": true
    },
    "papermill": {
     "duration": 5.902184,
     "end_time": "2025-01-04T11:26:57.781081",
     "exception": false,
     "start_time": "2025-01-04T11:26:51.878897",
     "status": "completed"
    },
    "tags": []
   },
   "outputs": [
    {
     "name": "stdout",
     "output_type": "stream",
     "text": [
      "Requirement already satisfied: xgboost in /usr/local/lib/python3.10/dist-packages (2.0.3)\r\n",
      "Requirement already satisfied: numpy in /usr/local/lib/python3.10/dist-packages (from xgboost) (1.26.4)\r\n",
      "Requirement already satisfied: scipy in /usr/local/lib/python3.10/dist-packages (from xgboost) (1.13.1)\r\n"
     ]
    }
   ],
   "source": [
    "!pip install xgboost"
   ]
  },
  {
   "cell_type": "code",
   "execution_count": 41,
   "id": "555e4e20",
   "metadata": {
    "execution": {
     "iopub.execute_input": "2025-01-04T11:26:57.808509Z",
     "iopub.status.busy": "2025-01-04T11:26:57.808136Z",
     "iopub.status.idle": "2025-01-04T11:26:58.078603Z",
     "shell.execute_reply": "2025-01-04T11:26:58.077505Z"
    },
    "papermill": {
     "duration": 0.286456,
     "end_time": "2025-01-04T11:26:58.080665",
     "exception": false,
     "start_time": "2025-01-04T11:26:57.794209",
     "status": "completed"
    },
    "tags": []
   },
   "outputs": [],
   "source": [
    "import xgboost as xg "
   ]
  },
  {
   "cell_type": "code",
   "execution_count": 42,
   "id": "970b1ab3",
   "metadata": {
    "execution": {
     "iopub.execute_input": "2025-01-04T11:26:58.108576Z",
     "iopub.status.busy": "2025-01-04T11:26:58.108225Z",
     "iopub.status.idle": "2025-01-04T11:26:58.112612Z",
     "shell.execute_reply": "2025-01-04T11:26:58.111512Z"
    },
    "papermill": {
     "duration": 0.020345,
     "end_time": "2025-01-04T11:26:58.114470",
     "exception": false,
     "start_time": "2025-01-04T11:26:58.094125",
     "status": "completed"
    },
    "tags": []
   },
   "outputs": [],
   "source": [
    "xgb_r = xg.XGBRegressor(objective ='reg:linear', \n",
    "                  n_estimators = 10, seed = 123)"
   ]
  },
  {
   "cell_type": "code",
   "execution_count": 43,
   "id": "6d53a543",
   "metadata": {
    "execution": {
     "iopub.execute_input": "2025-01-04T11:26:58.141621Z",
     "iopub.status.busy": "2025-01-04T11:26:58.141281Z",
     "iopub.status.idle": "2025-01-04T11:26:58.211644Z",
     "shell.execute_reply": "2025-01-04T11:26:58.210603Z"
    },
    "papermill": {
     "duration": 0.085947,
     "end_time": "2025-01-04T11:26:58.213464",
     "exception": false,
     "start_time": "2025-01-04T11:26:58.127517",
     "status": "completed"
    },
    "tags": []
   },
   "outputs": [
    {
     "data": {
      "text/html": [
       "<style>#sk-container-id-4 {color: black;background-color: white;}#sk-container-id-4 pre{padding: 0;}#sk-container-id-4 div.sk-toggleable {background-color: white;}#sk-container-id-4 label.sk-toggleable__label {cursor: pointer;display: block;width: 100%;margin-bottom: 0;padding: 0.3em;box-sizing: border-box;text-align: center;}#sk-container-id-4 label.sk-toggleable__label-arrow:before {content: \"▸\";float: left;margin-right: 0.25em;color: #696969;}#sk-container-id-4 label.sk-toggleable__label-arrow:hover:before {color: black;}#sk-container-id-4 div.sk-estimator:hover label.sk-toggleable__label-arrow:before {color: black;}#sk-container-id-4 div.sk-toggleable__content {max-height: 0;max-width: 0;overflow: hidden;text-align: left;background-color: #f0f8ff;}#sk-container-id-4 div.sk-toggleable__content pre {margin: 0.2em;color: black;border-radius: 0.25em;background-color: #f0f8ff;}#sk-container-id-4 input.sk-toggleable__control:checked~div.sk-toggleable__content {max-height: 200px;max-width: 100%;overflow: auto;}#sk-container-id-4 input.sk-toggleable__control:checked~label.sk-toggleable__label-arrow:before {content: \"▾\";}#sk-container-id-4 div.sk-estimator input.sk-toggleable__control:checked~label.sk-toggleable__label {background-color: #d4ebff;}#sk-container-id-4 div.sk-label input.sk-toggleable__control:checked~label.sk-toggleable__label {background-color: #d4ebff;}#sk-container-id-4 input.sk-hidden--visually {border: 0;clip: rect(1px 1px 1px 1px);clip: rect(1px, 1px, 1px, 1px);height: 1px;margin: -1px;overflow: hidden;padding: 0;position: absolute;width: 1px;}#sk-container-id-4 div.sk-estimator {font-family: monospace;background-color: #f0f8ff;border: 1px dotted black;border-radius: 0.25em;box-sizing: border-box;margin-bottom: 0.5em;}#sk-container-id-4 div.sk-estimator:hover {background-color: #d4ebff;}#sk-container-id-4 div.sk-parallel-item::after {content: \"\";width: 100%;border-bottom: 1px solid gray;flex-grow: 1;}#sk-container-id-4 div.sk-label:hover label.sk-toggleable__label {background-color: #d4ebff;}#sk-container-id-4 div.sk-serial::before {content: \"\";position: absolute;border-left: 1px solid gray;box-sizing: border-box;top: 0;bottom: 0;left: 50%;z-index: 0;}#sk-container-id-4 div.sk-serial {display: flex;flex-direction: column;align-items: center;background-color: white;padding-right: 0.2em;padding-left: 0.2em;position: relative;}#sk-container-id-4 div.sk-item {position: relative;z-index: 1;}#sk-container-id-4 div.sk-parallel {display: flex;align-items: stretch;justify-content: center;background-color: white;position: relative;}#sk-container-id-4 div.sk-item::before, #sk-container-id-4 div.sk-parallel-item::before {content: \"\";position: absolute;border-left: 1px solid gray;box-sizing: border-box;top: 0;bottom: 0;left: 50%;z-index: -1;}#sk-container-id-4 div.sk-parallel-item {display: flex;flex-direction: column;z-index: 1;position: relative;background-color: white;}#sk-container-id-4 div.sk-parallel-item:first-child::after {align-self: flex-end;width: 50%;}#sk-container-id-4 div.sk-parallel-item:last-child::after {align-self: flex-start;width: 50%;}#sk-container-id-4 div.sk-parallel-item:only-child::after {width: 0;}#sk-container-id-4 div.sk-dashed-wrapped {border: 1px dashed gray;margin: 0 0.4em 0.5em 0.4em;box-sizing: border-box;padding-bottom: 0.4em;background-color: white;}#sk-container-id-4 div.sk-label label {font-family: monospace;font-weight: bold;display: inline-block;line-height: 1.2em;}#sk-container-id-4 div.sk-label-container {text-align: center;}#sk-container-id-4 div.sk-container {/* jupyter's `normalize.less` sets `[hidden] { display: none; }` but bootstrap.min.css set `[hidden] { display: none !important; }` so we also need the `!important` here to be able to override the default hidden behavior on the sphinx rendered scikit-learn.org. See: https://github.com/scikit-learn/scikit-learn/issues/21755 */display: inline-block !important;position: relative;}#sk-container-id-4 div.sk-text-repr-fallback {display: none;}</style><div id=\"sk-container-id-4\" class=\"sk-top-container\"><div class=\"sk-text-repr-fallback\"><pre>XGBRegressor(base_score=None, booster=None, callbacks=None,\n",
       "             colsample_bylevel=None, colsample_bynode=None,\n",
       "             colsample_bytree=None, device=None, early_stopping_rounds=None,\n",
       "             enable_categorical=False, eval_metric=None, feature_types=None,\n",
       "             gamma=None, grow_policy=None, importance_type=None,\n",
       "             interaction_constraints=None, learning_rate=None, max_bin=None,\n",
       "             max_cat_threshold=None, max_cat_to_onehot=None,\n",
       "             max_delta_step=None, max_depth=None, max_leaves=None,\n",
       "             min_child_weight=None, missing=nan, monotone_constraints=None,\n",
       "             multi_strategy=None, n_estimators=10, n_jobs=None,\n",
       "             num_parallel_tree=None, objective=&#x27;reg:linear&#x27;, ...)</pre><b>In a Jupyter environment, please rerun this cell to show the HTML representation or trust the notebook. <br />On GitHub, the HTML representation is unable to render, please try loading this page with nbviewer.org.</b></div><div class=\"sk-container\" hidden><div class=\"sk-item\"><div class=\"sk-estimator sk-toggleable\"><input class=\"sk-toggleable__control sk-hidden--visually\" id=\"sk-estimator-id-7\" type=\"checkbox\" checked><label for=\"sk-estimator-id-7\" class=\"sk-toggleable__label sk-toggleable__label-arrow\">XGBRegressor</label><div class=\"sk-toggleable__content\"><pre>XGBRegressor(base_score=None, booster=None, callbacks=None,\n",
       "             colsample_bylevel=None, colsample_bynode=None,\n",
       "             colsample_bytree=None, device=None, early_stopping_rounds=None,\n",
       "             enable_categorical=False, eval_metric=None, feature_types=None,\n",
       "             gamma=None, grow_policy=None, importance_type=None,\n",
       "             interaction_constraints=None, learning_rate=None, max_bin=None,\n",
       "             max_cat_threshold=None, max_cat_to_onehot=None,\n",
       "             max_delta_step=None, max_depth=None, max_leaves=None,\n",
       "             min_child_weight=None, missing=nan, monotone_constraints=None,\n",
       "             multi_strategy=None, n_estimators=10, n_jobs=None,\n",
       "             num_parallel_tree=None, objective=&#x27;reg:linear&#x27;, ...)</pre></div></div></div></div></div>"
      ],
      "text/plain": [
       "XGBRegressor(base_score=None, booster=None, callbacks=None,\n",
       "             colsample_bylevel=None, colsample_bynode=None,\n",
       "             colsample_bytree=None, device=None, early_stopping_rounds=None,\n",
       "             enable_categorical=False, eval_metric=None, feature_types=None,\n",
       "             gamma=None, grow_policy=None, importance_type=None,\n",
       "             interaction_constraints=None, learning_rate=None, max_bin=None,\n",
       "             max_cat_threshold=None, max_cat_to_onehot=None,\n",
       "             max_delta_step=None, max_depth=None, max_leaves=None,\n",
       "             min_child_weight=None, missing=nan, monotone_constraints=None,\n",
       "             multi_strategy=None, n_estimators=10, n_jobs=None,\n",
       "             num_parallel_tree=None, objective='reg:linear', ...)"
      ]
     },
     "execution_count": 43,
     "metadata": {},
     "output_type": "execute_result"
    }
   ],
   "source": [
    "xgb_r.fit(X_train, y_train) "
   ]
  },
  {
   "cell_type": "code",
   "execution_count": 44,
   "id": "15d20a4c",
   "metadata": {
    "execution": {
     "iopub.execute_input": "2025-01-04T11:26:58.241272Z",
     "iopub.status.busy": "2025-01-04T11:26:58.240902Z",
     "iopub.status.idle": "2025-01-04T11:26:58.249612Z",
     "shell.execute_reply": "2025-01-04T11:26:58.248802Z"
    },
    "papermill": {
     "duration": 0.024923,
     "end_time": "2025-01-04T11:26:58.251770",
     "exception": false,
     "start_time": "2025-01-04T11:26:58.226847",
     "status": "completed"
    },
    "tags": []
   },
   "outputs": [],
   "source": [
    "xgb_pred = xgb_r.predict(X_test) "
   ]
  },
  {
   "cell_type": "code",
   "execution_count": 45,
   "id": "7018c68c",
   "metadata": {
    "execution": {
     "iopub.execute_input": "2025-01-04T11:26:58.279927Z",
     "iopub.status.busy": "2025-01-04T11:26:58.279559Z",
     "iopub.status.idle": "2025-01-04T11:26:58.286257Z",
     "shell.execute_reply": "2025-01-04T11:26:58.284837Z"
    },
    "papermill": {
     "duration": 0.022584,
     "end_time": "2025-01-04T11:26:58.287885",
     "exception": false,
     "start_time": "2025-01-04T11:26:58.265301",
     "status": "completed"
    },
    "tags": []
   },
   "outputs": [
    {
     "name": "stdout",
     "output_type": "stream",
     "text": [
      "0.9143975380938699\n"
     ]
    }
   ],
   "source": [
    "print(r2_score(y_test, xgb_pred))"
   ]
  },
  {
   "cell_type": "code",
   "execution_count": 46,
   "id": "97f3dcdd",
   "metadata": {
    "execution": {
     "iopub.execute_input": "2025-01-04T11:26:58.316654Z",
     "iopub.status.busy": "2025-01-04T11:26:58.316317Z",
     "iopub.status.idle": "2025-01-04T11:26:58.320227Z",
     "shell.execute_reply": "2025-01-04T11:26:58.319228Z"
    },
    "jupyter": {
     "source_hidden": true
    },
    "papermill": {
     "duration": 0.020348,
     "end_time": "2025-01-04T11:26:58.321892",
     "exception": false,
     "start_time": "2025-01-04T11:26:58.301544",
     "status": "completed"
    },
    "tags": []
   },
   "outputs": [],
   "source": [
    "# APPLY CATBOOST REGRESSOR"
   ]
  },
  {
   "cell_type": "code",
   "execution_count": 47,
   "id": "424ff6ea",
   "metadata": {
    "execution": {
     "iopub.execute_input": "2025-01-04T11:26:58.351002Z",
     "iopub.status.busy": "2025-01-04T11:26:58.350597Z",
     "iopub.status.idle": "2025-01-04T11:26:58.596731Z",
     "shell.execute_reply": "2025-01-04T11:26:58.595676Z"
    },
    "papermill": {
     "duration": 0.26276,
     "end_time": "2025-01-04T11:26:58.598804",
     "exception": false,
     "start_time": "2025-01-04T11:26:58.336044",
     "status": "completed"
    },
    "tags": []
   },
   "outputs": [],
   "source": [
    "from catboost import CatBoostRegressor\n",
    "cb_model = CatBoostRegressor(iterations=2,\n",
    "                          learning_rate=1,\n",
    "                          depth=2)"
   ]
  },
  {
   "cell_type": "code",
   "execution_count": 48,
   "id": "3466285e",
   "metadata": {
    "execution": {
     "iopub.execute_input": "2025-01-04T11:26:58.627369Z",
     "iopub.status.busy": "2025-01-04T11:26:58.627000Z",
     "iopub.status.idle": "2025-01-04T11:26:58.779879Z",
     "shell.execute_reply": "2025-01-04T11:26:58.778550Z"
    },
    "papermill": {
     "duration": 0.169588,
     "end_time": "2025-01-04T11:26:58.782055",
     "exception": false,
     "start_time": "2025-01-04T11:26:58.612467",
     "status": "completed"
    },
    "tags": []
   },
   "outputs": [
    {
     "name": "stdout",
     "output_type": "stream",
     "text": [
      "0:\tlearn: 0.6405254\ttotal: 53.1ms\tremaining: 53.1ms\n",
      "1:\tlearn: 0.5789291\ttotal: 54.3ms\tremaining: 0us\n"
     ]
    },
    {
     "data": {
      "text/plain": [
       "<catboost.core.CatBoostRegressor at 0x7c7c984dc370>"
      ]
     },
     "execution_count": 48,
     "metadata": {},
     "output_type": "execute_result"
    }
   ],
   "source": [
    "cb_model.fit(X_train, y_train)"
   ]
  },
  {
   "cell_type": "code",
   "execution_count": 49,
   "id": "76b888e2",
   "metadata": {
    "execution": {
     "iopub.execute_input": "2025-01-04T11:26:58.811080Z",
     "iopub.status.busy": "2025-01-04T11:26:58.810580Z",
     "iopub.status.idle": "2025-01-04T11:26:58.819152Z",
     "shell.execute_reply": "2025-01-04T11:26:58.818057Z"
    },
    "papermill": {
     "duration": 0.026237,
     "end_time": "2025-01-04T11:26:58.822093",
     "exception": false,
     "start_time": "2025-01-04T11:26:58.795856",
     "status": "completed"
    },
    "tags": []
   },
   "outputs": [],
   "source": [
    "cb_pred = model.predict(X_test)"
   ]
  },
  {
   "cell_type": "code",
   "execution_count": 50,
   "id": "761151a1",
   "metadata": {
    "execution": {
     "iopub.execute_input": "2025-01-04T11:26:58.877921Z",
     "iopub.status.busy": "2025-01-04T11:26:58.877211Z",
     "iopub.status.idle": "2025-01-04T11:26:58.890234Z",
     "shell.execute_reply": "2025-01-04T11:26:58.888952Z"
    },
    "papermill": {
     "duration": 0.045438,
     "end_time": "2025-01-04T11:26:58.893643",
     "exception": false,
     "start_time": "2025-01-04T11:26:58.848205",
     "status": "completed"
    },
    "tags": []
   },
   "outputs": [
    {
     "name": "stdout",
     "output_type": "stream",
     "text": [
      "0.7584978032256849\n"
     ]
    }
   ],
   "source": [
    "print(r2_score(y_test, cb_pred))"
   ]
  }
 ],
 "metadata": {
  "kaggle": {
   "accelerator": "none",
   "dataSources": [
    {
     "datasetId": 3282301,
     "sourceId": 5716504,
     "sourceType": "datasetVersion"
    }
   ],
   "dockerImageVersionId": 30822,
   "isGpuEnabled": false,
   "isInternetEnabled": false,
   "language": "python",
   "sourceType": "notebook"
  },
  "kernelspec": {
   "display_name": "Python 3",
   "language": "python",
   "name": "python3"
  },
  "language_info": {
   "codemirror_mode": {
    "name": "ipython",
    "version": 3
   },
   "file_extension": ".py",
   "mimetype": "text/x-python",
   "name": "python",
   "nbconvert_exporter": "python",
   "pygments_lexer": "ipython3",
   "version": "3.10.12"
  },
  "papermill": {
   "default_parameters": {},
   "duration": 18.023385,
   "end_time": "2025-01-04T11:26:59.743973",
   "environment_variables": {},
   "exception": null,
   "input_path": "__notebook__.ipynb",
   "output_path": "__notebook__.ipynb",
   "parameters": {},
   "start_time": "2025-01-04T11:26:41.720588",
   "version": "2.6.0"
  }
 },
 "nbformat": 4,
 "nbformat_minor": 5
}
